{
 "cells": [
  {
   "cell_type": "markdown",
   "metadata": {
    "collapsed": true,
    "deletable": true,
    "editable": true
   },
   "source": [
    "# Artificial Intelligence Engineer Nanodegree - Probabilistic Models\n",
    "## Project: Sign Language Recognition System\n",
    "- [Introduction](#intro)\n",
    "- [Part 1 Feature Selection](#part1_tutorial)\n",
    "    - [Tutorial](#part1_tutorial)\n",
    "    - [Features Submission](#part1_submission)\n",
    "    - [Features Unittest](#part1_test)\n",
    "- [Part 2 Train the models](#part2_tutorial)\n",
    "    - [Tutorial](#part2_tutorial)\n",
    "    - [Model Selection Score Submission](#part2_submission)\n",
    "    - [Model Score Unittest](#part2_test)\n",
    "- [Part 3 Build a Recognizer](#part3_tutorial)\n",
    "    - [Tutorial](#part3_tutorial)\n",
    "    - [Recognizer Submission](#part3_submission)\n",
    "    - [Recognizer Unittest](#part3_test)\n",
    "- [Part 4 (OPTIONAL) Improve the WER with Language Models](#part4_info)"
   ]
  },
  {
   "cell_type": "markdown",
   "metadata": {
    "deletable": true,
    "editable": true
   },
   "source": [
    "<a id='intro'></a>\n",
    "## Introduction\n",
    "The overall goal of this project is to build a word recognizer for American Sign Language video sequences, demonstrating the power of probabalistic models.  In particular, this project employs  [hidden Markov models (HMM's)](https://en.wikipedia.org/wiki/Hidden_Markov_model) to analyze a series of measurements taken from videos of American Sign Language (ASL) collected for research (see the [RWTH-BOSTON-104 Database](http://www-i6.informatik.rwth-aachen.de/~dreuw/database-rwth-boston-104.php)).  In this video, the right-hand x and y locations are plotted as the speaker signs the sentence.\n",
    "[![ASLR demo](http://www-i6.informatik.rwth-aachen.de/~dreuw/images/demosample.png)](https://drive.google.com/open?id=0B_5qGuFe-wbhUXRuVnNZVnMtam8)\n",
    "\n",
    "The raw data, train, and test sets are pre-defined.  You will derive a variety of feature sets (explored in Part 1), as well as implement three different model selection criterion to determine the optimal number of hidden states for each word model (explored in Part 2). Finally, in Part 3 you will implement the recognizer and compare the effects the different combinations of feature sets and model selection criteria.  \n",
    "\n",
    "At the end of each Part, complete the submission cells with implementations, answer all questions, and pass the unit tests.  Then submit the completed notebook for review!"
   ]
  },
  {
   "cell_type": "markdown",
   "metadata": {
    "deletable": true,
    "editable": true
   },
   "source": [
    "<a id='part1_tutorial'></a>\n",
    "## PART 1: Data\n",
    "\n",
    "### Features Tutorial\n",
    "##### Load the initial database\n",
    "A data handler designed for this database is provided in the student codebase as the `AslDb` class in the `asl_data` module.  This handler creates the initial [pandas](http://pandas.pydata.org/pandas-docs/stable/) dataframe from the corpus of data included in the `data` directory as well as dictionaries suitable for extracting data in a format friendly to the [hmmlearn](https://hmmlearn.readthedocs.io/en/latest/) library.  We'll use those to create models in Part 2.\n",
    "\n",
    "To start, let's set up the initial database and select an example set of features for the training set.  At the end of Part 1, you will create additional feature sets for experimentation. "
   ]
  },
  {
   "cell_type": "code",
   "execution_count": 1,
   "metadata": {
    "collapsed": false,
    "deletable": true,
    "editable": true
   },
   "outputs": [
    {
     "data": {
      "text/html": [
       "<div>\n",
       "<table border=\"1\" class=\"dataframe\">\n",
       "  <thead>\n",
       "    <tr style=\"text-align: right;\">\n",
       "      <th></th>\n",
       "      <th></th>\n",
       "      <th>left-x</th>\n",
       "      <th>left-y</th>\n",
       "      <th>right-x</th>\n",
       "      <th>right-y</th>\n",
       "      <th>nose-x</th>\n",
       "      <th>nose-y</th>\n",
       "      <th>speaker</th>\n",
       "    </tr>\n",
       "    <tr>\n",
       "      <th>video</th>\n",
       "      <th>frame</th>\n",
       "      <th></th>\n",
       "      <th></th>\n",
       "      <th></th>\n",
       "      <th></th>\n",
       "      <th></th>\n",
       "      <th></th>\n",
       "      <th></th>\n",
       "    </tr>\n",
       "  </thead>\n",
       "  <tbody>\n",
       "    <tr>\n",
       "      <th rowspan=\"5\" valign=\"top\">98</th>\n",
       "      <th>0</th>\n",
       "      <td>149</td>\n",
       "      <td>181</td>\n",
       "      <td>170</td>\n",
       "      <td>175</td>\n",
       "      <td>161</td>\n",
       "      <td>62</td>\n",
       "      <td>woman-1</td>\n",
       "    </tr>\n",
       "    <tr>\n",
       "      <th>1</th>\n",
       "      <td>149</td>\n",
       "      <td>181</td>\n",
       "      <td>170</td>\n",
       "      <td>175</td>\n",
       "      <td>161</td>\n",
       "      <td>62</td>\n",
       "      <td>woman-1</td>\n",
       "    </tr>\n",
       "    <tr>\n",
       "      <th>2</th>\n",
       "      <td>149</td>\n",
       "      <td>181</td>\n",
       "      <td>170</td>\n",
       "      <td>175</td>\n",
       "      <td>161</td>\n",
       "      <td>62</td>\n",
       "      <td>woman-1</td>\n",
       "    </tr>\n",
       "    <tr>\n",
       "      <th>3</th>\n",
       "      <td>149</td>\n",
       "      <td>181</td>\n",
       "      <td>170</td>\n",
       "      <td>175</td>\n",
       "      <td>161</td>\n",
       "      <td>62</td>\n",
       "      <td>woman-1</td>\n",
       "    </tr>\n",
       "    <tr>\n",
       "      <th>4</th>\n",
       "      <td>149</td>\n",
       "      <td>181</td>\n",
       "      <td>170</td>\n",
       "      <td>175</td>\n",
       "      <td>161</td>\n",
       "      <td>62</td>\n",
       "      <td>woman-1</td>\n",
       "    </tr>\n",
       "  </tbody>\n",
       "</table>\n",
       "</div>"
      ],
      "text/plain": [
       "             left-x  left-y  right-x  right-y  nose-x  nose-y  speaker\n",
       "video frame                                                           \n",
       "98    0         149     181      170      175     161      62  woman-1\n",
       "      1         149     181      170      175     161      62  woman-1\n",
       "      2         149     181      170      175     161      62  woman-1\n",
       "      3         149     181      170      175     161      62  woman-1\n",
       "      4         149     181      170      175     161      62  woman-1"
      ]
     },
     "execution_count": 1,
     "metadata": {},
     "output_type": "execute_result"
    }
   ],
   "source": [
    "import numpy as np\n",
    "import pandas as pd\n",
    "from asl_data import AslDb\n",
    "\n",
    "\n",
    "asl = AslDb() # initializes the database\n",
    "asl.df.head() # displays the first five rows of the asl database, indexed by video and frame"
   ]
  },
  {
   "cell_type": "code",
   "execution_count": 2,
   "metadata": {
    "collapsed": false,
    "deletable": true,
    "editable": true
   },
   "outputs": [
    {
     "data": {
      "text/plain": [
       "left-x         149\n",
       "left-y         181\n",
       "right-x        170\n",
       "right-y        175\n",
       "nose-x         161\n",
       "nose-y          62\n",
       "speaker    woman-1\n",
       "Name: (98, 1), dtype: object"
      ]
     },
     "execution_count": 2,
     "metadata": {},
     "output_type": "execute_result"
    }
   ],
   "source": [
    "asl.df.ix[98,1]  # look at the data available for an individual frame"
   ]
  },
  {
   "cell_type": "markdown",
   "metadata": {
    "deletable": true,
    "editable": true
   },
   "source": [
    "The frame represented by video 98, frame 1 is shown here:\n",
    "![Video 98](http://www-i6.informatik.rwth-aachen.de/~dreuw/database/rwth-boston-104/overview/images/orig/098-start.jpg)"
   ]
  },
  {
   "cell_type": "markdown",
   "metadata": {
    "deletable": true,
    "editable": true
   },
   "source": [
    "##### Feature selection for training the model\n",
    "The objective of feature selection when training a model is to choose the most relevant variables while keeping the model as simple as possible, thus reducing training time.  We can use the raw features already provided or derive our own and add columns to the pandas dataframe `asl.df` for selection. As an example, in the next cell a feature named `'grnd-ry'` is added. This feature is the difference between the right-hand y value and the nose y value, which serves as the \"ground\" right y value. "
   ]
  },
  {
   "cell_type": "code",
   "execution_count": 3,
   "metadata": {
    "collapsed": false,
    "deletable": true,
    "editable": true
   },
   "outputs": [
    {
     "data": {
      "text/html": [
       "<div>\n",
       "<table border=\"1\" class=\"dataframe\">\n",
       "  <thead>\n",
       "    <tr style=\"text-align: right;\">\n",
       "      <th></th>\n",
       "      <th></th>\n",
       "      <th>left-x</th>\n",
       "      <th>left-y</th>\n",
       "      <th>right-x</th>\n",
       "      <th>right-y</th>\n",
       "      <th>nose-x</th>\n",
       "      <th>nose-y</th>\n",
       "      <th>speaker</th>\n",
       "      <th>grnd-ry</th>\n",
       "    </tr>\n",
       "    <tr>\n",
       "      <th>video</th>\n",
       "      <th>frame</th>\n",
       "      <th></th>\n",
       "      <th></th>\n",
       "      <th></th>\n",
       "      <th></th>\n",
       "      <th></th>\n",
       "      <th></th>\n",
       "      <th></th>\n",
       "      <th></th>\n",
       "    </tr>\n",
       "  </thead>\n",
       "  <tbody>\n",
       "    <tr>\n",
       "      <th rowspan=\"5\" valign=\"top\">98</th>\n",
       "      <th>0</th>\n",
       "      <td>149</td>\n",
       "      <td>181</td>\n",
       "      <td>170</td>\n",
       "      <td>175</td>\n",
       "      <td>161</td>\n",
       "      <td>62</td>\n",
       "      <td>woman-1</td>\n",
       "      <td>113</td>\n",
       "    </tr>\n",
       "    <tr>\n",
       "      <th>1</th>\n",
       "      <td>149</td>\n",
       "      <td>181</td>\n",
       "      <td>170</td>\n",
       "      <td>175</td>\n",
       "      <td>161</td>\n",
       "      <td>62</td>\n",
       "      <td>woman-1</td>\n",
       "      <td>113</td>\n",
       "    </tr>\n",
       "    <tr>\n",
       "      <th>2</th>\n",
       "      <td>149</td>\n",
       "      <td>181</td>\n",
       "      <td>170</td>\n",
       "      <td>175</td>\n",
       "      <td>161</td>\n",
       "      <td>62</td>\n",
       "      <td>woman-1</td>\n",
       "      <td>113</td>\n",
       "    </tr>\n",
       "    <tr>\n",
       "      <th>3</th>\n",
       "      <td>149</td>\n",
       "      <td>181</td>\n",
       "      <td>170</td>\n",
       "      <td>175</td>\n",
       "      <td>161</td>\n",
       "      <td>62</td>\n",
       "      <td>woman-1</td>\n",
       "      <td>113</td>\n",
       "    </tr>\n",
       "    <tr>\n",
       "      <th>4</th>\n",
       "      <td>149</td>\n",
       "      <td>181</td>\n",
       "      <td>170</td>\n",
       "      <td>175</td>\n",
       "      <td>161</td>\n",
       "      <td>62</td>\n",
       "      <td>woman-1</td>\n",
       "      <td>113</td>\n",
       "    </tr>\n",
       "  </tbody>\n",
       "</table>\n",
       "</div>"
      ],
      "text/plain": [
       "             left-x  left-y  right-x  right-y  nose-x  nose-y  speaker  \\\n",
       "video frame                                                              \n",
       "98    0         149     181      170      175     161      62  woman-1   \n",
       "      1         149     181      170      175     161      62  woman-1   \n",
       "      2         149     181      170      175     161      62  woman-1   \n",
       "      3         149     181      170      175     161      62  woman-1   \n",
       "      4         149     181      170      175     161      62  woman-1   \n",
       "\n",
       "             grnd-ry  \n",
       "video frame           \n",
       "98    0          113  \n",
       "      1          113  \n",
       "      2          113  \n",
       "      3          113  \n",
       "      4          113  "
      ]
     },
     "execution_count": 3,
     "metadata": {},
     "output_type": "execute_result"
    }
   ],
   "source": [
    "asl.df['grnd-ry'] = asl.df['right-y'] - asl.df['nose-y']\n",
    "asl.df.head()  # the new feature 'grnd-ry' is now in the frames dictionary"
   ]
  },
  {
   "cell_type": "markdown",
   "metadata": {
    "deletable": true,
    "editable": true
   },
   "source": [
    "##### Try it!"
   ]
  },
  {
   "cell_type": "code",
   "execution_count": 4,
   "metadata": {
    "collapsed": false,
    "deletable": true,
    "editable": true
   },
   "outputs": [
    {
     "name": "stdout",
     "output_type": "stream",
     "text": [
      "asl.df sample\n"
     ]
    },
    {
     "data": {
      "text/html": [
       "<div>\n",
       "<table border=\"1\" class=\"dataframe\">\n",
       "  <thead>\n",
       "    <tr style=\"text-align: right;\">\n",
       "      <th></th>\n",
       "      <th></th>\n",
       "      <th>left-x</th>\n",
       "      <th>left-y</th>\n",
       "      <th>right-x</th>\n",
       "      <th>right-y</th>\n",
       "      <th>nose-x</th>\n",
       "      <th>nose-y</th>\n",
       "      <th>speaker</th>\n",
       "      <th>grnd-ry</th>\n",
       "      <th>grnd-rx</th>\n",
       "      <th>grnd-ly</th>\n",
       "      <th>grnd-lx</th>\n",
       "    </tr>\n",
       "    <tr>\n",
       "      <th>video</th>\n",
       "      <th>frame</th>\n",
       "      <th></th>\n",
       "      <th></th>\n",
       "      <th></th>\n",
       "      <th></th>\n",
       "      <th></th>\n",
       "      <th></th>\n",
       "      <th></th>\n",
       "      <th></th>\n",
       "      <th></th>\n",
       "      <th></th>\n",
       "      <th></th>\n",
       "    </tr>\n",
       "  </thead>\n",
       "  <tbody>\n",
       "    <tr>\n",
       "      <th rowspan=\"5\" valign=\"top\">98</th>\n",
       "      <th>0</th>\n",
       "      <td>149</td>\n",
       "      <td>181</td>\n",
       "      <td>170</td>\n",
       "      <td>175</td>\n",
       "      <td>161</td>\n",
       "      <td>62</td>\n",
       "      <td>woman-1</td>\n",
       "      <td>113</td>\n",
       "      <td>9</td>\n",
       "      <td>119</td>\n",
       "      <td>-12</td>\n",
       "    </tr>\n",
       "    <tr>\n",
       "      <th>1</th>\n",
       "      <td>149</td>\n",
       "      <td>181</td>\n",
       "      <td>170</td>\n",
       "      <td>175</td>\n",
       "      <td>161</td>\n",
       "      <td>62</td>\n",
       "      <td>woman-1</td>\n",
       "      <td>113</td>\n",
       "      <td>9</td>\n",
       "      <td>119</td>\n",
       "      <td>-12</td>\n",
       "    </tr>\n",
       "    <tr>\n",
       "      <th>2</th>\n",
       "      <td>149</td>\n",
       "      <td>181</td>\n",
       "      <td>170</td>\n",
       "      <td>175</td>\n",
       "      <td>161</td>\n",
       "      <td>62</td>\n",
       "      <td>woman-1</td>\n",
       "      <td>113</td>\n",
       "      <td>9</td>\n",
       "      <td>119</td>\n",
       "      <td>-12</td>\n",
       "    </tr>\n",
       "    <tr>\n",
       "      <th>3</th>\n",
       "      <td>149</td>\n",
       "      <td>181</td>\n",
       "      <td>170</td>\n",
       "      <td>175</td>\n",
       "      <td>161</td>\n",
       "      <td>62</td>\n",
       "      <td>woman-1</td>\n",
       "      <td>113</td>\n",
       "      <td>9</td>\n",
       "      <td>119</td>\n",
       "      <td>-12</td>\n",
       "    </tr>\n",
       "    <tr>\n",
       "      <th>4</th>\n",
       "      <td>149</td>\n",
       "      <td>181</td>\n",
       "      <td>170</td>\n",
       "      <td>175</td>\n",
       "      <td>161</td>\n",
       "      <td>62</td>\n",
       "      <td>woman-1</td>\n",
       "      <td>113</td>\n",
       "      <td>9</td>\n",
       "      <td>119</td>\n",
       "      <td>-12</td>\n",
       "    </tr>\n",
       "  </tbody>\n",
       "</table>\n",
       "</div>"
      ],
      "text/plain": [
       "             left-x  left-y  right-x  right-y  nose-x  nose-y  speaker  \\\n",
       "video frame                                                              \n",
       "98    0         149     181      170      175     161      62  woman-1   \n",
       "      1         149     181      170      175     161      62  woman-1   \n",
       "      2         149     181      170      175     161      62  woman-1   \n",
       "      3         149     181      170      175     161      62  woman-1   \n",
       "      4         149     181      170      175     161      62  woman-1   \n",
       "\n",
       "             grnd-ry  grnd-rx  grnd-ly  grnd-lx  \n",
       "video frame                                      \n",
       "98    0          113        9      119      -12  \n",
       "      1          113        9      119      -12  \n",
       "      2          113        9      119      -12  \n",
       "      3          113        9      119      -12  \n",
       "      4          113        9      119      -12  "
      ]
     },
     "metadata": {},
     "output_type": "display_data"
    },
    {
     "data": {
      "text/html": [
       "<font color=green>Correct!</font><br/>"
      ],
      "text/plain": [
       "<IPython.core.display.HTML object>"
      ]
     },
     "execution_count": 4,
     "metadata": {},
     "output_type": "execute_result"
    }
   ],
   "source": [
    "from asl_utils import test_features_tryit\n",
    "# TODO add df columns for 'grnd-rx', 'grnd-ly', 'grnd-lx' representing differences between hand and nose locations\n",
    "asl.df['grnd-rx'] = asl.df['right-x'] - asl.df['nose-x']\n",
    "asl.df['grnd-ly'] = asl.df['left-y'] - asl.df['nose-y']\n",
    "asl.df['grnd-lx'] = asl.df['left-x'] - asl.df['nose-x']\n",
    "# test the code\n",
    "test_features_tryit(asl)"
   ]
  },
  {
   "cell_type": "code",
   "execution_count": 5,
   "metadata": {
    "collapsed": false,
    "deletable": true,
    "editable": true
   },
   "outputs": [
    {
     "data": {
      "text/plain": [
       "[9, 113, -12, 119]"
      ]
     },
     "execution_count": 5,
     "metadata": {},
     "output_type": "execute_result"
    }
   ],
   "source": [
    "# collect the features into a list\n",
    "features_ground = ['grnd-rx','grnd-ry','grnd-lx','grnd-ly']\n",
    " #show a single set of features for a given (video, frame) tuple\n",
    "[asl.df.ix[98,1][v] for v in features_ground]"
   ]
  },
  {
   "cell_type": "markdown",
   "metadata": {
    "deletable": true,
    "editable": true
   },
   "source": [
    "##### Build the training set\n",
    "Now that we have a feature list defined, we can pass that list to the `build_training` method to collect the features for all the words in the training set.  Each word in the training set has multiple examples from various videos.  Below we can see the unique words that have been loaded into the training set:"
   ]
  },
  {
   "cell_type": "code",
   "execution_count": 6,
   "metadata": {
    "collapsed": false,
    "deletable": true,
    "editable": true
   },
   "outputs": [
    {
     "name": "stdout",
     "output_type": "stream",
     "text": [
      "Training words: ['JOHN', 'WRITE', 'HOMEWORK', 'IX-1P', 'SEE', 'YESTERDAY', 'IX', 'LOVE', 'MARY', 'CAN', 'GO', 'GO1', 'FUTURE', 'GO2', 'PARTY', 'FUTURE1', 'HIT', 'BLAME', 'FRED', 'FISH', 'WONT', 'EAT', 'BUT', 'CHICKEN', 'VEGETABLE', 'CHINA', 'PEOPLE', 'PREFER', 'BROCCOLI', 'LIKE', 'LEAVE', 'SAY', 'BUY', 'HOUSE', 'KNOW', 'CORN', 'CORN1', 'THINK', 'NOT', 'PAST', 'LIVE', 'CHICAGO', 'CAR', 'SHOULD', 'DECIDE', 'VISIT', 'MOVIE', 'WANT', 'SELL', 'TOMORROW', 'NEXT-WEEK', 'NEW-YORK', 'LAST-WEEK', 'WILL', 'FINISH', 'ANN', 'READ', 'BOOK', 'CHOCOLATE', 'FIND', 'SOMETHING-ONE', 'POSS', 'BROTHER', 'ARRIVE', 'HERE', 'GIVE', 'MAN', 'NEW', 'COAT', 'WOMAN', 'GIVE1', 'HAVE', 'FRANK', 'BREAK-DOWN', 'SEARCH-FOR', 'WHO', 'WHAT', 'LEG', 'FRIEND', 'CANDY', 'BLUE', 'SUE', 'BUY1', 'STOLEN', 'OLD', 'STUDENT', 'VIDEOTAPE', 'BORROW', 'MOTHER', 'POTATO', 'TELL', 'BILL', 'THROW', 'APPLE', 'NAME', 'SHOOT', 'SAY-1P', 'SELF', 'GROUP', 'JANA', 'TOY1', 'MANY', 'TOY', 'ALL', 'BOY', 'TEACHER', 'GIRL', 'BOX', 'GIVE2', 'GIVE3', 'GET', 'PUTASIDE']\n"
     ]
    }
   ],
   "source": [
    "training = asl.build_training(features_ground)\n",
    "print(\"Training words: {}\".format(training.words))"
   ]
  },
  {
   "cell_type": "markdown",
   "metadata": {
    "deletable": true,
    "editable": true
   },
   "source": [
    "The training data in `training` is an object of class `WordsData` defined in the `asl_data` module.  in addition to the `words` list, data can be accessed with the `get_all_sequences`, `get_all_Xlengths`, `get_word_sequences`, and `get_word_Xlengths` methods. We need the `get_word_Xlengths` method to train multiple sequences with the `hmmlearn` library.  In the following example, notice that there are two lists; the first is a concatenation of all the sequences(the X portion) and the second is a list of the sequence lengths(the Lengths portion)."
   ]
  },
  {
   "cell_type": "code",
   "execution_count": 7,
   "metadata": {
    "collapsed": false,
    "deletable": true,
    "editable": true
   },
   "outputs": [
    {
     "data": {
      "text/plain": [
       "(array([[-49,  14, -17, 126],\n",
       "        [-43,  17, -17, 126],\n",
       "        [-39,  20, -17, 126],\n",
       "        [-39,  20, -17, 126],\n",
       "        [-39,  20, -17, 126],\n",
       "        [-39,  20, -17, 126],\n",
       "        [-39,  20, -17, 126],\n",
       "        [-41,  26,  -4, 122]]), [8])"
      ]
     },
     "execution_count": 7,
     "metadata": {},
     "output_type": "execute_result"
    }
   ],
   "source": [
    "training.get_word_Xlengths('LEG')"
   ]
  },
  {
   "cell_type": "markdown",
   "metadata": {
    "deletable": true,
    "editable": true
   },
   "source": [
    "###### More feature sets\n",
    "So far we have a simple feature set that is enough to get started modeling.  However, we might get better results if we manipulate the raw values a bit more, so we will go ahead and set up some other options now for experimentation later.  For example, we could normalize each speaker's range of motion with grouped statistics using [Pandas stats](http://pandas.pydata.org/pandas-docs/stable/api.html#api-dataframe-stats) functions and [pandas groupby](http://pandas.pydata.org/pandas-docs/stable/generated/pandas.DataFrame.groupby.html).  Below is an example for finding the means of all speaker subgroups."
   ]
  },
  {
   "cell_type": "code",
   "execution_count": 8,
   "metadata": {
    "collapsed": false,
    "deletable": true,
    "editable": true,
    "scrolled": true
   },
   "outputs": [
    {
     "data": {
      "text/html": [
       "<div>\n",
       "<table border=\"1\" class=\"dataframe\">\n",
       "  <thead>\n",
       "    <tr style=\"text-align: right;\">\n",
       "      <th></th>\n",
       "      <th>left-x</th>\n",
       "      <th>left-y</th>\n",
       "      <th>right-x</th>\n",
       "      <th>right-y</th>\n",
       "      <th>nose-x</th>\n",
       "      <th>nose-y</th>\n",
       "      <th>grnd-ry</th>\n",
       "      <th>grnd-rx</th>\n",
       "      <th>grnd-ly</th>\n",
       "      <th>grnd-lx</th>\n",
       "    </tr>\n",
       "    <tr>\n",
       "      <th>speaker</th>\n",
       "      <th></th>\n",
       "      <th></th>\n",
       "      <th></th>\n",
       "      <th></th>\n",
       "      <th></th>\n",
       "      <th></th>\n",
       "      <th></th>\n",
       "      <th></th>\n",
       "      <th></th>\n",
       "      <th></th>\n",
       "    </tr>\n",
       "  </thead>\n",
       "  <tbody>\n",
       "    <tr>\n",
       "      <th>man-1</th>\n",
       "      <td>206.248203</td>\n",
       "      <td>218.679449</td>\n",
       "      <td>155.464350</td>\n",
       "      <td>150.371031</td>\n",
       "      <td>175.031756</td>\n",
       "      <td>61.642600</td>\n",
       "      <td>88.728430</td>\n",
       "      <td>-19.567406</td>\n",
       "      <td>157.036848</td>\n",
       "      <td>31.216447</td>\n",
       "    </tr>\n",
       "    <tr>\n",
       "      <th>woman-1</th>\n",
       "      <td>164.661438</td>\n",
       "      <td>161.271242</td>\n",
       "      <td>151.017865</td>\n",
       "      <td>117.332462</td>\n",
       "      <td>162.655120</td>\n",
       "      <td>57.245098</td>\n",
       "      <td>60.087364</td>\n",
       "      <td>-11.637255</td>\n",
       "      <td>104.026144</td>\n",
       "      <td>2.006318</td>\n",
       "    </tr>\n",
       "    <tr>\n",
       "      <th>woman-2</th>\n",
       "      <td>183.214509</td>\n",
       "      <td>176.527232</td>\n",
       "      <td>156.866295</td>\n",
       "      <td>119.835714</td>\n",
       "      <td>170.318973</td>\n",
       "      <td>58.022098</td>\n",
       "      <td>61.813616</td>\n",
       "      <td>-13.452679</td>\n",
       "      <td>118.505134</td>\n",
       "      <td>12.895536</td>\n",
       "    </tr>\n",
       "  </tbody>\n",
       "</table>\n",
       "</div>"
      ],
      "text/plain": [
       "             left-x      left-y     right-x     right-y      nose-x  \\\n",
       "speaker                                                               \n",
       "man-1    206.248203  218.679449  155.464350  150.371031  175.031756   \n",
       "woman-1  164.661438  161.271242  151.017865  117.332462  162.655120   \n",
       "woman-2  183.214509  176.527232  156.866295  119.835714  170.318973   \n",
       "\n",
       "            nose-y    grnd-ry    grnd-rx     grnd-ly    grnd-lx  \n",
       "speaker                                                          \n",
       "man-1    61.642600  88.728430 -19.567406  157.036848  31.216447  \n",
       "woman-1  57.245098  60.087364 -11.637255  104.026144   2.006318  \n",
       "woman-2  58.022098  61.813616 -13.452679  118.505134  12.895536  "
      ]
     },
     "execution_count": 8,
     "metadata": {},
     "output_type": "execute_result"
    }
   ],
   "source": [
    "df_means = asl.df.groupby('speaker').mean()\n",
    "df_means"
   ]
  },
  {
   "cell_type": "markdown",
   "metadata": {
    "deletable": true,
    "editable": true
   },
   "source": [
    "To select a mean that matches by speaker, use the pandas [map](http://pandas.pydata.org/pandas-docs/stable/generated/pandas.Series.map.html) method:"
   ]
  },
  {
   "cell_type": "code",
   "execution_count": 9,
   "metadata": {
    "collapsed": false,
    "deletable": true,
    "editable": true
   },
   "outputs": [
    {
     "data": {
      "text/html": [
       "<div>\n",
       "<table border=\"1\" class=\"dataframe\">\n",
       "  <thead>\n",
       "    <tr style=\"text-align: right;\">\n",
       "      <th></th>\n",
       "      <th></th>\n",
       "      <th>left-x</th>\n",
       "      <th>left-y</th>\n",
       "      <th>right-x</th>\n",
       "      <th>right-y</th>\n",
       "      <th>nose-x</th>\n",
       "      <th>nose-y</th>\n",
       "      <th>speaker</th>\n",
       "      <th>grnd-ry</th>\n",
       "      <th>grnd-rx</th>\n",
       "      <th>grnd-ly</th>\n",
       "      <th>grnd-lx</th>\n",
       "      <th>left-x-mean</th>\n",
       "    </tr>\n",
       "    <tr>\n",
       "      <th>video</th>\n",
       "      <th>frame</th>\n",
       "      <th></th>\n",
       "      <th></th>\n",
       "      <th></th>\n",
       "      <th></th>\n",
       "      <th></th>\n",
       "      <th></th>\n",
       "      <th></th>\n",
       "      <th></th>\n",
       "      <th></th>\n",
       "      <th></th>\n",
       "      <th></th>\n",
       "      <th></th>\n",
       "    </tr>\n",
       "  </thead>\n",
       "  <tbody>\n",
       "    <tr>\n",
       "      <th rowspan=\"5\" valign=\"top\">98</th>\n",
       "      <th>0</th>\n",
       "      <td>149</td>\n",
       "      <td>181</td>\n",
       "      <td>170</td>\n",
       "      <td>175</td>\n",
       "      <td>161</td>\n",
       "      <td>62</td>\n",
       "      <td>woman-1</td>\n",
       "      <td>113</td>\n",
       "      <td>9</td>\n",
       "      <td>119</td>\n",
       "      <td>-12</td>\n",
       "      <td>164.661438</td>\n",
       "    </tr>\n",
       "    <tr>\n",
       "      <th>1</th>\n",
       "      <td>149</td>\n",
       "      <td>181</td>\n",
       "      <td>170</td>\n",
       "      <td>175</td>\n",
       "      <td>161</td>\n",
       "      <td>62</td>\n",
       "      <td>woman-1</td>\n",
       "      <td>113</td>\n",
       "      <td>9</td>\n",
       "      <td>119</td>\n",
       "      <td>-12</td>\n",
       "      <td>164.661438</td>\n",
       "    </tr>\n",
       "    <tr>\n",
       "      <th>2</th>\n",
       "      <td>149</td>\n",
       "      <td>181</td>\n",
       "      <td>170</td>\n",
       "      <td>175</td>\n",
       "      <td>161</td>\n",
       "      <td>62</td>\n",
       "      <td>woman-1</td>\n",
       "      <td>113</td>\n",
       "      <td>9</td>\n",
       "      <td>119</td>\n",
       "      <td>-12</td>\n",
       "      <td>164.661438</td>\n",
       "    </tr>\n",
       "    <tr>\n",
       "      <th>3</th>\n",
       "      <td>149</td>\n",
       "      <td>181</td>\n",
       "      <td>170</td>\n",
       "      <td>175</td>\n",
       "      <td>161</td>\n",
       "      <td>62</td>\n",
       "      <td>woman-1</td>\n",
       "      <td>113</td>\n",
       "      <td>9</td>\n",
       "      <td>119</td>\n",
       "      <td>-12</td>\n",
       "      <td>164.661438</td>\n",
       "    </tr>\n",
       "    <tr>\n",
       "      <th>4</th>\n",
       "      <td>149</td>\n",
       "      <td>181</td>\n",
       "      <td>170</td>\n",
       "      <td>175</td>\n",
       "      <td>161</td>\n",
       "      <td>62</td>\n",
       "      <td>woman-1</td>\n",
       "      <td>113</td>\n",
       "      <td>9</td>\n",
       "      <td>119</td>\n",
       "      <td>-12</td>\n",
       "      <td>164.661438</td>\n",
       "    </tr>\n",
       "  </tbody>\n",
       "</table>\n",
       "</div>"
      ],
      "text/plain": [
       "             left-x  left-y  right-x  right-y  nose-x  nose-y  speaker  \\\n",
       "video frame                                                              \n",
       "98    0         149     181      170      175     161      62  woman-1   \n",
       "      1         149     181      170      175     161      62  woman-1   \n",
       "      2         149     181      170      175     161      62  woman-1   \n",
       "      3         149     181      170      175     161      62  woman-1   \n",
       "      4         149     181      170      175     161      62  woman-1   \n",
       "\n",
       "             grnd-ry  grnd-rx  grnd-ly  grnd-lx  left-x-mean  \n",
       "video frame                                                   \n",
       "98    0          113        9      119      -12   164.661438  \n",
       "      1          113        9      119      -12   164.661438  \n",
       "      2          113        9      119      -12   164.661438  \n",
       "      3          113        9      119      -12   164.661438  \n",
       "      4          113        9      119      -12   164.661438  "
      ]
     },
     "execution_count": 9,
     "metadata": {},
     "output_type": "execute_result"
    }
   ],
   "source": [
    "asl.df['left-x-mean']= asl.df['speaker'].map(df_means['left-x'])\n",
    "asl.df.head()"
   ]
  },
  {
   "cell_type": "markdown",
   "metadata": {
    "deletable": true,
    "editable": true
   },
   "source": [
    "##### Try it!"
   ]
  },
  {
   "cell_type": "code",
   "execution_count": 10,
   "metadata": {
    "collapsed": false,
    "deletable": true,
    "editable": true,
    "scrolled": true
   },
   "outputs": [
    {
     "name": "stdout",
     "output_type": "stream",
     "text": [
      "df_std\n"
     ]
    },
    {
     "data": {
      "text/html": [
       "<div>\n",
       "<table border=\"1\" class=\"dataframe\">\n",
       "  <thead>\n",
       "    <tr style=\"text-align: right;\">\n",
       "      <th></th>\n",
       "      <th>left-x</th>\n",
       "      <th>left-y</th>\n",
       "      <th>right-x</th>\n",
       "      <th>right-y</th>\n",
       "      <th>nose-x</th>\n",
       "      <th>nose-y</th>\n",
       "      <th>grnd-ry</th>\n",
       "      <th>grnd-rx</th>\n",
       "      <th>grnd-ly</th>\n",
       "      <th>grnd-lx</th>\n",
       "      <th>left-x-mean</th>\n",
       "    </tr>\n",
       "    <tr>\n",
       "      <th>speaker</th>\n",
       "      <th></th>\n",
       "      <th></th>\n",
       "      <th></th>\n",
       "      <th></th>\n",
       "      <th></th>\n",
       "      <th></th>\n",
       "      <th></th>\n",
       "      <th></th>\n",
       "      <th></th>\n",
       "      <th></th>\n",
       "      <th></th>\n",
       "    </tr>\n",
       "  </thead>\n",
       "  <tbody>\n",
       "    <tr>\n",
       "      <th>man-1</th>\n",
       "      <td>15.154425</td>\n",
       "      <td>36.328485</td>\n",
       "      <td>18.901917</td>\n",
       "      <td>54.902340</td>\n",
       "      <td>6.654573</td>\n",
       "      <td>5.520045</td>\n",
       "      <td>53.487999</td>\n",
       "      <td>20.269032</td>\n",
       "      <td>36.572749</td>\n",
       "      <td>15.080360</td>\n",
       "      <td>0.0</td>\n",
       "    </tr>\n",
       "    <tr>\n",
       "      <th>woman-1</th>\n",
       "      <td>17.573442</td>\n",
       "      <td>26.594521</td>\n",
       "      <td>16.459943</td>\n",
       "      <td>34.667787</td>\n",
       "      <td>3.549392</td>\n",
       "      <td>3.538330</td>\n",
       "      <td>33.972660</td>\n",
       "      <td>16.764706</td>\n",
       "      <td>27.117393</td>\n",
       "      <td>17.328941</td>\n",
       "      <td>0.0</td>\n",
       "    </tr>\n",
       "    <tr>\n",
       "      <th>woman-2</th>\n",
       "      <td>15.388711</td>\n",
       "      <td>28.825025</td>\n",
       "      <td>14.890288</td>\n",
       "      <td>39.649111</td>\n",
       "      <td>4.099760</td>\n",
       "      <td>3.416167</td>\n",
       "      <td>39.128572</td>\n",
       "      <td>16.191324</td>\n",
       "      <td>29.320655</td>\n",
       "      <td>15.050938</td>\n",
       "      <td>0.0</td>\n",
       "    </tr>\n",
       "  </tbody>\n",
       "</table>\n",
       "</div>"
      ],
      "text/plain": [
       "            left-x     left-y    right-x    right-y    nose-x    nose-y  \\\n",
       "speaker                                                                   \n",
       "man-1    15.154425  36.328485  18.901917  54.902340  6.654573  5.520045   \n",
       "woman-1  17.573442  26.594521  16.459943  34.667787  3.549392  3.538330   \n",
       "woman-2  15.388711  28.825025  14.890288  39.649111  4.099760  3.416167   \n",
       "\n",
       "           grnd-ry    grnd-rx    grnd-ly    grnd-lx  left-x-mean  \n",
       "speaker                                                           \n",
       "man-1    53.487999  20.269032  36.572749  15.080360          0.0  \n",
       "woman-1  33.972660  16.764706  27.117393  17.328941          0.0  \n",
       "woman-2  39.128572  16.191324  29.320655  15.050938          0.0  "
      ]
     },
     "metadata": {},
     "output_type": "display_data"
    },
    {
     "data": {
      "text/html": [
       "<font color=green>Correct!</font><br/>"
      ],
      "text/plain": [
       "<IPython.core.display.HTML object>"
      ]
     },
     "execution_count": 10,
     "metadata": {},
     "output_type": "execute_result"
    }
   ],
   "source": [
    "from asl_utils import test_std_tryit\n",
    "# TODO Create a dataframe named `df_std` with standard deviations grouped by speaker\n",
    "df_std = asl.df.groupby('speaker').std()\n",
    "df_std\n",
    "\n",
    "# test the code\n",
    "test_std_tryit(df_std)"
   ]
  },
  {
   "cell_type": "markdown",
   "metadata": {
    "deletable": true,
    "editable": true
   },
   "source": [
    "<a id='part1_submission'></a>\n",
    "### Features Implementation Submission\n",
    "Implement four feature sets and answer the question that follows.\n",
    "- normalized Cartesian coordinates\n",
    "    - use *mean* and *standard deviation* statistics and the [standard score](https://en.wikipedia.org/wiki/Standard_score) equation to account for speakers with different heights and arm length\n",
    "    \n",
    "- polar coordinates\n",
    "    - calculate polar coordinates with [Cartesian to polar equations](https://en.wikipedia.org/wiki/Polar_coordinate_system#Converting_between_polar_and_Cartesian_coordinates)\n",
    "    - use the [np.arctan2](https://docs.scipy.org/doc/numpy-1.10.0/reference/generated/numpy.arctan2.html) function and *swap the x and y axes* to move the $0$ to $2\\pi$ discontinuity to 12 o'clock instead of 3 o'clock;  in other words, the normal break in radians value from $0$ to $2\\pi$ occurs directly to the left of the speaker's nose, which may be in the signing area and interfere with results.  By swapping the x and y axes, that discontinuity move to directly above the speaker's head, an area not generally used in signing.\n",
    "\n",
    "- delta difference\n",
    "    - as described in Thad's lecture, use the difference in values between one frame and the next frames as features\n",
    "    - pandas [diff method](http://pandas.pydata.org/pandas-docs/stable/generated/pandas.DataFrame.diff.html) and [fillna method](http://pandas.pydata.org/pandas-docs/stable/generated/pandas.DataFrame.fillna.html) will be helpful for this one\n",
    "\n",
    "- custom features\n",
    "    - These are your own design; combine techniques used above or come up with something else entirely. We look forward to seeing what you come up with! \n",
    "    Some ideas to get you started:\n",
    "        - normalize using a [feature scaling equation](https://en.wikipedia.org/wiki/Feature_scaling)\n",
    "        - normalize the polar coordinates\n",
    "        - adding additional deltas\n"
   ]
  },
  {
   "cell_type": "code",
   "execution_count": 11,
   "metadata": {
    "collapsed": false,
    "deletable": true,
    "editable": true
   },
   "outputs": [],
   "source": [
    "# TODO add features for normalized by speaker values of left, right, x, y\n",
    "# Name these 'norm-rx', 'norm-ry', 'norm-lx', and 'norm-ly'\n",
    "# using Z-score scaling (X-Xmean)/Xstd\n",
    "\n",
    "features_norm = ['norm-rx', 'norm-ry', 'norm-lx','norm-ly']\n",
    "features = ['left-x', 'right-x', 'left-y', 'right-y']\n",
    "for speaker in asl.df.speaker.unique():\n",
    "    for f in features:\n",
    "        asl.df[f + '-mean']= asl.df['speaker'].map(df_means[f])\n",
    "        asl.df[f + '-std']= asl.df['speaker'].map(df_std[f])\n",
    "\n",
    "asl.df[features_norm[0]] = (asl.df['right-x'] - asl.df['right-x-mean']) / asl.df['right-x-std']\n",
    "asl.df[features_norm[1]] = (asl.df['right-y'] - asl.df['right-y-mean']) / asl.df['right-y-std']\n",
    "asl.df[features_norm[2]] = (asl.df['left-x'] - asl.df['left-x-mean']) / asl.df['left-x-std']\n",
    "asl.df[features_norm[3]] = (asl.df['left-y'] - asl.df['left-y-mean']) / asl.df['left-y-std']"
   ]
  },
  {
   "cell_type": "code",
   "execution_count": 12,
   "metadata": {
    "collapsed": false,
    "deletable": true,
    "editable": true
   },
   "outputs": [
    {
     "data": {
      "text/plain": [
       "[113.35784048754634,\n",
       " 0.079478244608206572,\n",
       " 119.60351165413162,\n",
       " -0.10050059905462982]"
      ]
     },
     "execution_count": 12,
     "metadata": {},
     "output_type": "execute_result"
    }
   ],
   "source": [
    "# TODO add features for polar coordinate values where the nose is the origin\n",
    "# Name these 'polar-rr', 'polar-rtheta', 'polar-lr', and 'polar-ltheta'\n",
    "# Note that 'polar-rr' and 'polar-rtheta' refer to the radius and angle\n",
    "\n",
    "features_polar = ['polar-rr', 'polar-rtheta', 'polar-lr', 'polar-ltheta']\n",
    "asl.df[features_polar[0]] = np.sqrt((asl.df['right-x'] - asl.df['nose-x']) **2  + (asl.df['right-y' ] - asl.df['nose-y']) ** 2)\n",
    "asl.df[features_polar[1]] = np.arctan2(asl.df['right-x'] - asl.df['nose-x'], asl.df['right-y'] - asl.df['nose-y'])\n",
    "asl.df[features_polar[2]] = np.sqrt((asl.df['left-x'] - asl.df['nose-x']) **2  + (asl.df['left-y'] - asl.df['nose-y']) ** 2)\n",
    "asl.df[features_polar[3]] = np.arctan2(asl.df['left-x'] - asl.df['nose-x'], asl.df['left-y'] - asl.df['nose-y'])\n",
    "sample = (asl.df.ix[98,1][features_polar]).tolist()\n",
    "sample"
   ]
  },
  {
   "cell_type": "code",
   "execution_count": 13,
   "metadata": {
    "collapsed": false,
    "deletable": true,
    "editable": true
   },
   "outputs": [
    {
     "data": {
      "text/html": [
       "<div>\n",
       "<table border=\"1\" class=\"dataframe\">\n",
       "  <thead>\n",
       "    <tr style=\"text-align: right;\">\n",
       "      <th></th>\n",
       "      <th>delta-rx</th>\n",
       "      <th>delta-ry</th>\n",
       "      <th>delta-lx</th>\n",
       "      <th>delta-ly</th>\n",
       "    </tr>\n",
       "    <tr>\n",
       "      <th>frame</th>\n",
       "      <th></th>\n",
       "      <th></th>\n",
       "      <th></th>\n",
       "      <th></th>\n",
       "    </tr>\n",
       "  </thead>\n",
       "  <tbody>\n",
       "    <tr>\n",
       "      <th>0</th>\n",
       "      <td>0.0</td>\n",
       "      <td>0.0</td>\n",
       "      <td>0.0</td>\n",
       "      <td>0.0</td>\n",
       "    </tr>\n",
       "    <tr>\n",
       "      <th>1</th>\n",
       "      <td>3.0</td>\n",
       "      <td>-2.0</td>\n",
       "      <td>0.0</td>\n",
       "      <td>0.0</td>\n",
       "    </tr>\n",
       "    <tr>\n",
       "      <th>2</th>\n",
       "      <td>1.0</td>\n",
       "      <td>-8.0</td>\n",
       "      <td>0.0</td>\n",
       "      <td>0.0</td>\n",
       "    </tr>\n",
       "    <tr>\n",
       "      <th>3</th>\n",
       "      <td>0.0</td>\n",
       "      <td>0.0</td>\n",
       "      <td>0.0</td>\n",
       "      <td>0.0</td>\n",
       "    </tr>\n",
       "    <tr>\n",
       "      <th>4</th>\n",
       "      <td>-1.0</td>\n",
       "      <td>-17.0</td>\n",
       "      <td>5.0</td>\n",
       "      <td>3.0</td>\n",
       "    </tr>\n",
       "    <tr>\n",
       "      <th>5</th>\n",
       "      <td>1.0</td>\n",
       "      <td>-13.0</td>\n",
       "      <td>0.0</td>\n",
       "      <td>0.0</td>\n",
       "    </tr>\n",
       "    <tr>\n",
       "      <th>6</th>\n",
       "      <td>-5.0</td>\n",
       "      <td>-15.0</td>\n",
       "      <td>1.0</td>\n",
       "      <td>4.0</td>\n",
       "    </tr>\n",
       "    <tr>\n",
       "      <th>7</th>\n",
       "      <td>0.0</td>\n",
       "      <td>-10.0</td>\n",
       "      <td>0.0</td>\n",
       "      <td>0.0</td>\n",
       "    </tr>\n",
       "    <tr>\n",
       "      <th>8</th>\n",
       "      <td>0.0</td>\n",
       "      <td>-16.0</td>\n",
       "      <td>0.0</td>\n",
       "      <td>0.0</td>\n",
       "    </tr>\n",
       "    <tr>\n",
       "      <th>9</th>\n",
       "      <td>2.0</td>\n",
       "      <td>-8.0</td>\n",
       "      <td>0.0</td>\n",
       "      <td>0.0</td>\n",
       "    </tr>\n",
       "    <tr>\n",
       "      <th>10</th>\n",
       "      <td>2.0</td>\n",
       "      <td>-6.0</td>\n",
       "      <td>-2.0</td>\n",
       "      <td>-5.0</td>\n",
       "    </tr>\n",
       "    <tr>\n",
       "      <th>11</th>\n",
       "      <td>-1.0</td>\n",
       "      <td>-6.0</td>\n",
       "      <td>0.0</td>\n",
       "      <td>0.0</td>\n",
       "    </tr>\n",
       "    <tr>\n",
       "      <th>12</th>\n",
       "      <td>0.0</td>\n",
       "      <td>0.0</td>\n",
       "      <td>0.0</td>\n",
       "      <td>0.0</td>\n",
       "    </tr>\n",
       "    <tr>\n",
       "      <th>13</th>\n",
       "      <td>0.0</td>\n",
       "      <td>0.0</td>\n",
       "      <td>0.0</td>\n",
       "      <td>0.0</td>\n",
       "    </tr>\n",
       "    <tr>\n",
       "      <th>14</th>\n",
       "      <td>0.0</td>\n",
       "      <td>0.0</td>\n",
       "      <td>0.0</td>\n",
       "      <td>0.0</td>\n",
       "    </tr>\n",
       "    <tr>\n",
       "      <th>15</th>\n",
       "      <td>0.0</td>\n",
       "      <td>0.0</td>\n",
       "      <td>0.0</td>\n",
       "      <td>0.0</td>\n",
       "    </tr>\n",
       "    <tr>\n",
       "      <th>16</th>\n",
       "      <td>1.0</td>\n",
       "      <td>-4.0</td>\n",
       "      <td>0.0</td>\n",
       "      <td>0.0</td>\n",
       "    </tr>\n",
       "    <tr>\n",
       "      <th>17</th>\n",
       "      <td>0.0</td>\n",
       "      <td>0.0</td>\n",
       "      <td>-3.0</td>\n",
       "      <td>0.0</td>\n",
       "    </tr>\n",
       "    <tr>\n",
       "      <th>18</th>\n",
       "      <td>0.0</td>\n",
       "      <td>0.0</td>\n",
       "      <td>0.0</td>\n",
       "      <td>0.0</td>\n",
       "    </tr>\n",
       "    <tr>\n",
       "      <th>19</th>\n",
       "      <td>0.0</td>\n",
       "      <td>0.0</td>\n",
       "      <td>0.0</td>\n",
       "      <td>0.0</td>\n",
       "    </tr>\n",
       "    <tr>\n",
       "      <th>20</th>\n",
       "      <td>0.0</td>\n",
       "      <td>0.0</td>\n",
       "      <td>0.0</td>\n",
       "      <td>0.0</td>\n",
       "    </tr>\n",
       "    <tr>\n",
       "      <th>21</th>\n",
       "      <td>0.0</td>\n",
       "      <td>0.0</td>\n",
       "      <td>0.0</td>\n",
       "      <td>0.0</td>\n",
       "    </tr>\n",
       "    <tr>\n",
       "      <th>22</th>\n",
       "      <td>0.0</td>\n",
       "      <td>0.0</td>\n",
       "      <td>0.0</td>\n",
       "      <td>0.0</td>\n",
       "    </tr>\n",
       "    <tr>\n",
       "      <th>23</th>\n",
       "      <td>0.0</td>\n",
       "      <td>0.0</td>\n",
       "      <td>0.0</td>\n",
       "      <td>0.0</td>\n",
       "    </tr>\n",
       "    <tr>\n",
       "      <th>24</th>\n",
       "      <td>-2.0</td>\n",
       "      <td>1.0</td>\n",
       "      <td>0.0</td>\n",
       "      <td>0.0</td>\n",
       "    </tr>\n",
       "    <tr>\n",
       "      <th>25</th>\n",
       "      <td>-3.0</td>\n",
       "      <td>-3.0</td>\n",
       "      <td>0.0</td>\n",
       "      <td>0.0</td>\n",
       "    </tr>\n",
       "    <tr>\n",
       "      <th>26</th>\n",
       "      <td>-3.0</td>\n",
       "      <td>1.0</td>\n",
       "      <td>0.0</td>\n",
       "      <td>0.0</td>\n",
       "    </tr>\n",
       "    <tr>\n",
       "      <th>27</th>\n",
       "      <td>-2.0</td>\n",
       "      <td>0.0</td>\n",
       "      <td>0.0</td>\n",
       "      <td>0.0</td>\n",
       "    </tr>\n",
       "    <tr>\n",
       "      <th>28</th>\n",
       "      <td>-9.0</td>\n",
       "      <td>1.0</td>\n",
       "      <td>0.0</td>\n",
       "      <td>0.0</td>\n",
       "    </tr>\n",
       "    <tr>\n",
       "      <th>29</th>\n",
       "      <td>-8.0</td>\n",
       "      <td>-5.0</td>\n",
       "      <td>0.0</td>\n",
       "      <td>0.0</td>\n",
       "    </tr>\n",
       "    <tr>\n",
       "      <th>...</th>\n",
       "      <td>...</td>\n",
       "      <td>...</td>\n",
       "      <td>...</td>\n",
       "      <td>...</td>\n",
       "    </tr>\n",
       "    <tr>\n",
       "      <th>40</th>\n",
       "      <td>13.0</td>\n",
       "      <td>-6.0</td>\n",
       "      <td>-8.0</td>\n",
       "      <td>-4.0</td>\n",
       "    </tr>\n",
       "    <tr>\n",
       "      <th>41</th>\n",
       "      <td>-5.0</td>\n",
       "      <td>-7.0</td>\n",
       "      <td>-7.0</td>\n",
       "      <td>-1.0</td>\n",
       "    </tr>\n",
       "    <tr>\n",
       "      <th>42</th>\n",
       "      <td>-2.0</td>\n",
       "      <td>-5.0</td>\n",
       "      <td>1.0</td>\n",
       "      <td>2.0</td>\n",
       "    </tr>\n",
       "    <tr>\n",
       "      <th>43</th>\n",
       "      <td>-5.0</td>\n",
       "      <td>-6.0</td>\n",
       "      <td>6.0</td>\n",
       "      <td>-4.0</td>\n",
       "    </tr>\n",
       "    <tr>\n",
       "      <th>44</th>\n",
       "      <td>-9.0</td>\n",
       "      <td>-9.0</td>\n",
       "      <td>8.0</td>\n",
       "      <td>-7.0</td>\n",
       "    </tr>\n",
       "    <tr>\n",
       "      <th>45</th>\n",
       "      <td>-4.0</td>\n",
       "      <td>0.0</td>\n",
       "      <td>14.0</td>\n",
       "      <td>-7.0</td>\n",
       "    </tr>\n",
       "    <tr>\n",
       "      <th>46</th>\n",
       "      <td>1.0</td>\n",
       "      <td>4.0</td>\n",
       "      <td>8.0</td>\n",
       "      <td>-7.0</td>\n",
       "    </tr>\n",
       "    <tr>\n",
       "      <th>47</th>\n",
       "      <td>0.0</td>\n",
       "      <td>7.0</td>\n",
       "      <td>6.0</td>\n",
       "      <td>-6.0</td>\n",
       "    </tr>\n",
       "    <tr>\n",
       "      <th>48</th>\n",
       "      <td>3.0</td>\n",
       "      <td>1.0</td>\n",
       "      <td>-4.0</td>\n",
       "      <td>2.0</td>\n",
       "    </tr>\n",
       "    <tr>\n",
       "      <th>49</th>\n",
       "      <td>0.0</td>\n",
       "      <td>0.0</td>\n",
       "      <td>0.0</td>\n",
       "      <td>0.0</td>\n",
       "    </tr>\n",
       "    <tr>\n",
       "      <th>50</th>\n",
       "      <td>1.0</td>\n",
       "      <td>-6.0</td>\n",
       "      <td>0.0</td>\n",
       "      <td>0.0</td>\n",
       "    </tr>\n",
       "    <tr>\n",
       "      <th>51</th>\n",
       "      <td>-3.0</td>\n",
       "      <td>-4.0</td>\n",
       "      <td>0.0</td>\n",
       "      <td>0.0</td>\n",
       "    </tr>\n",
       "    <tr>\n",
       "      <th>52</th>\n",
       "      <td>0.0</td>\n",
       "      <td>0.0</td>\n",
       "      <td>0.0</td>\n",
       "      <td>0.0</td>\n",
       "    </tr>\n",
       "    <tr>\n",
       "      <th>53</th>\n",
       "      <td>0.0</td>\n",
       "      <td>0.0</td>\n",
       "      <td>0.0</td>\n",
       "      <td>-11.0</td>\n",
       "    </tr>\n",
       "    <tr>\n",
       "      <th>54</th>\n",
       "      <td>0.0</td>\n",
       "      <td>0.0</td>\n",
       "      <td>0.0</td>\n",
       "      <td>0.0</td>\n",
       "    </tr>\n",
       "    <tr>\n",
       "      <th>55</th>\n",
       "      <td>0.0</td>\n",
       "      <td>0.0</td>\n",
       "      <td>-4.0</td>\n",
       "      <td>5.0</td>\n",
       "    </tr>\n",
       "    <tr>\n",
       "      <th>56</th>\n",
       "      <td>0.0</td>\n",
       "      <td>0.0</td>\n",
       "      <td>0.0</td>\n",
       "      <td>0.0</td>\n",
       "    </tr>\n",
       "    <tr>\n",
       "      <th>57</th>\n",
       "      <td>6.0</td>\n",
       "      <td>9.0</td>\n",
       "      <td>-4.0</td>\n",
       "      <td>12.0</td>\n",
       "    </tr>\n",
       "    <tr>\n",
       "      <th>58</th>\n",
       "      <td>2.0</td>\n",
       "      <td>5.0</td>\n",
       "      <td>0.0</td>\n",
       "      <td>3.0</td>\n",
       "    </tr>\n",
       "    <tr>\n",
       "      <th>59</th>\n",
       "      <td>5.0</td>\n",
       "      <td>3.0</td>\n",
       "      <td>-1.0</td>\n",
       "      <td>2.0</td>\n",
       "    </tr>\n",
       "    <tr>\n",
       "      <th>60</th>\n",
       "      <td>1.0</td>\n",
       "      <td>6.0</td>\n",
       "      <td>-3.0</td>\n",
       "      <td>4.0</td>\n",
       "    </tr>\n",
       "    <tr>\n",
       "      <th>61</th>\n",
       "      <td>-1.0</td>\n",
       "      <td>5.0</td>\n",
       "      <td>3.0</td>\n",
       "      <td>6.0</td>\n",
       "    </tr>\n",
       "    <tr>\n",
       "      <th>62</th>\n",
       "      <td>0.0</td>\n",
       "      <td>0.0</td>\n",
       "      <td>1.0</td>\n",
       "      <td>4.0</td>\n",
       "    </tr>\n",
       "    <tr>\n",
       "      <th>63</th>\n",
       "      <td>-4.0</td>\n",
       "      <td>8.0</td>\n",
       "      <td>-6.0</td>\n",
       "      <td>8.0</td>\n",
       "    </tr>\n",
       "    <tr>\n",
       "      <th>64</th>\n",
       "      <td>-2.0</td>\n",
       "      <td>11.0</td>\n",
       "      <td>2.0</td>\n",
       "      <td>9.0</td>\n",
       "    </tr>\n",
       "    <tr>\n",
       "      <th>65</th>\n",
       "      <td>-1.0</td>\n",
       "      <td>8.0</td>\n",
       "      <td>4.0</td>\n",
       "      <td>13.0</td>\n",
       "    </tr>\n",
       "    <tr>\n",
       "      <th>66</th>\n",
       "      <td>-3.0</td>\n",
       "      <td>15.0</td>\n",
       "      <td>-4.0</td>\n",
       "      <td>8.0</td>\n",
       "    </tr>\n",
       "    <tr>\n",
       "      <th>67</th>\n",
       "      <td>3.0</td>\n",
       "      <td>15.0</td>\n",
       "      <td>0.0</td>\n",
       "      <td>16.0</td>\n",
       "    </tr>\n",
       "    <tr>\n",
       "      <th>68</th>\n",
       "      <td>-7.0</td>\n",
       "      <td>17.0</td>\n",
       "      <td>1.0</td>\n",
       "      <td>15.0</td>\n",
       "    </tr>\n",
       "    <tr>\n",
       "      <th>69</th>\n",
       "      <td>0.0</td>\n",
       "      <td>0.0</td>\n",
       "      <td>0.0</td>\n",
       "      <td>0.0</td>\n",
       "    </tr>\n",
       "  </tbody>\n",
       "</table>\n",
       "<p>70 rows × 4 columns</p>\n",
       "</div>"
      ],
      "text/plain": [
       "       delta-rx  delta-ry  delta-lx  delta-ly\n",
       "frame                                        \n",
       "0           0.0       0.0       0.0       0.0\n",
       "1           3.0      -2.0       0.0       0.0\n",
       "2           1.0      -8.0       0.0       0.0\n",
       "3           0.0       0.0       0.0       0.0\n",
       "4          -1.0     -17.0       5.0       3.0\n",
       "5           1.0     -13.0       0.0       0.0\n",
       "6          -5.0     -15.0       1.0       4.0\n",
       "7           0.0     -10.0       0.0       0.0\n",
       "8           0.0     -16.0       0.0       0.0\n",
       "9           2.0      -8.0       0.0       0.0\n",
       "10          2.0      -6.0      -2.0      -5.0\n",
       "11         -1.0      -6.0       0.0       0.0\n",
       "12          0.0       0.0       0.0       0.0\n",
       "13          0.0       0.0       0.0       0.0\n",
       "14          0.0       0.0       0.0       0.0\n",
       "15          0.0       0.0       0.0       0.0\n",
       "16          1.0      -4.0       0.0       0.0\n",
       "17          0.0       0.0      -3.0       0.0\n",
       "18          0.0       0.0       0.0       0.0\n",
       "19          0.0       0.0       0.0       0.0\n",
       "20          0.0       0.0       0.0       0.0\n",
       "21          0.0       0.0       0.0       0.0\n",
       "22          0.0       0.0       0.0       0.0\n",
       "23          0.0       0.0       0.0       0.0\n",
       "24         -2.0       1.0       0.0       0.0\n",
       "25         -3.0      -3.0       0.0       0.0\n",
       "26         -3.0       1.0       0.0       0.0\n",
       "27         -2.0       0.0       0.0       0.0\n",
       "28         -9.0       1.0       0.0       0.0\n",
       "29         -8.0      -5.0       0.0       0.0\n",
       "...         ...       ...       ...       ...\n",
       "40         13.0      -6.0      -8.0      -4.0\n",
       "41         -5.0      -7.0      -7.0      -1.0\n",
       "42         -2.0      -5.0       1.0       2.0\n",
       "43         -5.0      -6.0       6.0      -4.0\n",
       "44         -9.0      -9.0       8.0      -7.0\n",
       "45         -4.0       0.0      14.0      -7.0\n",
       "46          1.0       4.0       8.0      -7.0\n",
       "47          0.0       7.0       6.0      -6.0\n",
       "48          3.0       1.0      -4.0       2.0\n",
       "49          0.0       0.0       0.0       0.0\n",
       "50          1.0      -6.0       0.0       0.0\n",
       "51         -3.0      -4.0       0.0       0.0\n",
       "52          0.0       0.0       0.0       0.0\n",
       "53          0.0       0.0       0.0     -11.0\n",
       "54          0.0       0.0       0.0       0.0\n",
       "55          0.0       0.0      -4.0       5.0\n",
       "56          0.0       0.0       0.0       0.0\n",
       "57          6.0       9.0      -4.0      12.0\n",
       "58          2.0       5.0       0.0       3.0\n",
       "59          5.0       3.0      -1.0       2.0\n",
       "60          1.0       6.0      -3.0       4.0\n",
       "61         -1.0       5.0       3.0       6.0\n",
       "62          0.0       0.0       1.0       4.0\n",
       "63         -4.0       8.0      -6.0       8.0\n",
       "64         -2.0      11.0       2.0       9.0\n",
       "65         -1.0       8.0       4.0      13.0\n",
       "66         -3.0      15.0      -4.0       8.0\n",
       "67          3.0      15.0       0.0      16.0\n",
       "68         -7.0      17.0       1.0      15.0\n",
       "69          0.0       0.0       0.0       0.0\n",
       "\n",
       "[70 rows x 4 columns]"
      ]
     },
     "execution_count": 13,
     "metadata": {},
     "output_type": "execute_result"
    }
   ],
   "source": [
    "# TODO add features for left, right, x, y differences by one time step, i.e. the \"delta\" values discussed in the lecture\n",
    "# Name these 'delta-rx', 'delta-ry', 'delta-lx', and 'delta-ly'\n",
    "\n",
    "features_delta = ['delta-rx', 'delta-ry', 'delta-lx', 'delta-ly']\n",
    "#asl.df['video'].unique()\n",
    "#for video in asl.df['video'].unique():\n",
    "#    asl.df.loc[(asl.df.video == video)]['left-x'].diff(1)\n",
    "#for index in asl.df.index.levels[0]:\n",
    "asl.df['delta-rx'] = asl.df.groupby(level=[0])['right-x'].diff(1).fillna(0)\n",
    "asl.df['delta-ry'] = asl.df.groupby(level=[0])['right-y'].diff(1).fillna(0)\n",
    "asl.df['delta-lx'] = asl.df.groupby(level=[0])['left-x'].diff(1).fillna(0)\n",
    "asl.df['delta-ly'] = asl.df.groupby(level=[0])['left-y'].diff(1).fillna(0)\n",
    "\n",
    "asl.df[features_delta].ix[97]"
   ]
  },
  {
   "cell_type": "code",
   "execution_count": 14,
   "metadata": {
    "collapsed": false,
    "deletable": true,
    "editable": true
   },
   "outputs": [
    {
     "data": {
      "text/html": [
       "<div>\n",
       "<table border=\"1\" class=\"dataframe\">\n",
       "  <thead>\n",
       "    <tr style=\"text-align: right;\">\n",
       "      <th></th>\n",
       "      <th>left-x</th>\n",
       "      <th>right-x</th>\n",
       "      <th>left-y</th>\n",
       "      <th>right-y</th>\n",
       "      <th>hand_dist</th>\n",
       "      <th>lnose_dist</th>\n",
       "      <th>rnose_dist</th>\n",
       "    </tr>\n",
       "    <tr>\n",
       "      <th>frame</th>\n",
       "      <th></th>\n",
       "      <th></th>\n",
       "      <th></th>\n",
       "      <th></th>\n",
       "      <th></th>\n",
       "      <th></th>\n",
       "      <th></th>\n",
       "    </tr>\n",
       "  </thead>\n",
       "  <tbody>\n",
       "    <tr>\n",
       "      <th>0</th>\n",
       "      <td>149</td>\n",
       "      <td>170</td>\n",
       "      <td>181</td>\n",
       "      <td>175</td>\n",
       "      <td>21.840330</td>\n",
       "      <td>119.603512</td>\n",
       "      <td>113.357840</td>\n",
       "    </tr>\n",
       "    <tr>\n",
       "      <th>1</th>\n",
       "      <td>149</td>\n",
       "      <td>170</td>\n",
       "      <td>181</td>\n",
       "      <td>175</td>\n",
       "      <td>21.840330</td>\n",
       "      <td>119.603512</td>\n",
       "      <td>113.357840</td>\n",
       "    </tr>\n",
       "    <tr>\n",
       "      <th>2</th>\n",
       "      <td>149</td>\n",
       "      <td>170</td>\n",
       "      <td>181</td>\n",
       "      <td>175</td>\n",
       "      <td>21.840330</td>\n",
       "      <td>119.603512</td>\n",
       "      <td>113.357840</td>\n",
       "    </tr>\n",
       "    <tr>\n",
       "      <th>3</th>\n",
       "      <td>149</td>\n",
       "      <td>170</td>\n",
       "      <td>181</td>\n",
       "      <td>175</td>\n",
       "      <td>21.840330</td>\n",
       "      <td>119.603512</td>\n",
       "      <td>113.357840</td>\n",
       "    </tr>\n",
       "    <tr>\n",
       "      <th>4</th>\n",
       "      <td>149</td>\n",
       "      <td>170</td>\n",
       "      <td>181</td>\n",
       "      <td>175</td>\n",
       "      <td>21.840330</td>\n",
       "      <td>119.603512</td>\n",
       "      <td>113.357840</td>\n",
       "    </tr>\n",
       "    <tr>\n",
       "      <th>5</th>\n",
       "      <td>149</td>\n",
       "      <td>170</td>\n",
       "      <td>181</td>\n",
       "      <td>175</td>\n",
       "      <td>21.840330</td>\n",
       "      <td>119.603512</td>\n",
       "      <td>113.357840</td>\n",
       "    </tr>\n",
       "    <tr>\n",
       "      <th>6</th>\n",
       "      <td>149</td>\n",
       "      <td>170</td>\n",
       "      <td>181</td>\n",
       "      <td>175</td>\n",
       "      <td>21.840330</td>\n",
       "      <td>119.603512</td>\n",
       "      <td>113.357840</td>\n",
       "    </tr>\n",
       "    <tr>\n",
       "      <th>7</th>\n",
       "      <td>149</td>\n",
       "      <td>170</td>\n",
       "      <td>181</td>\n",
       "      <td>175</td>\n",
       "      <td>21.840330</td>\n",
       "      <td>119.603512</td>\n",
       "      <td>113.357840</td>\n",
       "    </tr>\n",
       "    <tr>\n",
       "      <th>8</th>\n",
       "      <td>149</td>\n",
       "      <td>170</td>\n",
       "      <td>181</td>\n",
       "      <td>175</td>\n",
       "      <td>21.840330</td>\n",
       "      <td>119.603512</td>\n",
       "      <td>113.357840</td>\n",
       "    </tr>\n",
       "    <tr>\n",
       "      <th>9</th>\n",
       "      <td>149</td>\n",
       "      <td>170</td>\n",
       "      <td>181</td>\n",
       "      <td>175</td>\n",
       "      <td>21.840330</td>\n",
       "      <td>119.603512</td>\n",
       "      <td>113.357840</td>\n",
       "    </tr>\n",
       "    <tr>\n",
       "      <th>10</th>\n",
       "      <td>149</td>\n",
       "      <td>170</td>\n",
       "      <td>181</td>\n",
       "      <td>175</td>\n",
       "      <td>21.840330</td>\n",
       "      <td>119.603512</td>\n",
       "      <td>113.357840</td>\n",
       "    </tr>\n",
       "    <tr>\n",
       "      <th>11</th>\n",
       "      <td>149</td>\n",
       "      <td>169</td>\n",
       "      <td>181</td>\n",
       "      <td>173</td>\n",
       "      <td>21.540659</td>\n",
       "      <td>119.603512</td>\n",
       "      <td>111.287915</td>\n",
       "    </tr>\n",
       "    <tr>\n",
       "      <th>12</th>\n",
       "      <td>149</td>\n",
       "      <td>167</td>\n",
       "      <td>181</td>\n",
       "      <td>165</td>\n",
       "      <td>24.083189</td>\n",
       "      <td>119.603512</td>\n",
       "      <td>103.174609</td>\n",
       "    </tr>\n",
       "    <tr>\n",
       "      <th>13</th>\n",
       "      <td>149</td>\n",
       "      <td>166</td>\n",
       "      <td>181</td>\n",
       "      <td>160</td>\n",
       "      <td>27.018512</td>\n",
       "      <td>119.603512</td>\n",
       "      <td>98.127468</td>\n",
       "    </tr>\n",
       "    <tr>\n",
       "      <th>14</th>\n",
       "      <td>149</td>\n",
       "      <td>164</td>\n",
       "      <td>181</td>\n",
       "      <td>149</td>\n",
       "      <td>35.341194</td>\n",
       "      <td>119.603512</td>\n",
       "      <td>87.051709</td>\n",
       "    </tr>\n",
       "    <tr>\n",
       "      <th>15</th>\n",
       "      <td>149</td>\n",
       "      <td>158</td>\n",
       "      <td>181</td>\n",
       "      <td>133</td>\n",
       "      <td>48.836462</td>\n",
       "      <td>119.603512</td>\n",
       "      <td>71.063352</td>\n",
       "    </tr>\n",
       "    <tr>\n",
       "      <th>16</th>\n",
       "      <td>149</td>\n",
       "      <td>153</td>\n",
       "      <td>181</td>\n",
       "      <td>119</td>\n",
       "      <td>62.128898</td>\n",
       "      <td>119.603512</td>\n",
       "      <td>57.558666</td>\n",
       "    </tr>\n",
       "    <tr>\n",
       "      <th>17</th>\n",
       "      <td>149</td>\n",
       "      <td>140</td>\n",
       "      <td>181</td>\n",
       "      <td>109</td>\n",
       "      <td>72.560320</td>\n",
       "      <td>119.603512</td>\n",
       "      <td>51.478151</td>\n",
       "    </tr>\n",
       "    <tr>\n",
       "      <th>18</th>\n",
       "      <td>149</td>\n",
       "      <td>126</td>\n",
       "      <td>181</td>\n",
       "      <td>100</td>\n",
       "      <td>84.202138</td>\n",
       "      <td>123.794184</td>\n",
       "      <td>55.973208</td>\n",
       "    </tr>\n",
       "    <tr>\n",
       "      <th>19</th>\n",
       "      <td>149</td>\n",
       "      <td>114</td>\n",
       "      <td>181</td>\n",
       "      <td>94</td>\n",
       "      <td>93.776330</td>\n",
       "      <td>123.794184</td>\n",
       "      <td>60.802960</td>\n",
       "    </tr>\n",
       "    <tr>\n",
       "      <th>20</th>\n",
       "      <td>149</td>\n",
       "      <td>110</td>\n",
       "      <td>181</td>\n",
       "      <td>89</td>\n",
       "      <td>99.924972</td>\n",
       "      <td>123.794184</td>\n",
       "      <td>61.400326</td>\n",
       "    </tr>\n",
       "    <tr>\n",
       "      <th>21</th>\n",
       "      <td>149</td>\n",
       "      <td>110</td>\n",
       "      <td>181</td>\n",
       "      <td>89</td>\n",
       "      <td>99.924972</td>\n",
       "      <td>125.674182</td>\n",
       "      <td>61.587336</td>\n",
       "    </tr>\n",
       "    <tr>\n",
       "      <th>22</th>\n",
       "      <td>149</td>\n",
       "      <td>115</td>\n",
       "      <td>181</td>\n",
       "      <td>86</td>\n",
       "      <td>100.900942</td>\n",
       "      <td>125.674182</td>\n",
       "      <td>55.758407</td>\n",
       "    </tr>\n",
       "    <tr>\n",
       "      <th>23</th>\n",
       "      <td>149</td>\n",
       "      <td>124</td>\n",
       "      <td>181</td>\n",
       "      <td>83</td>\n",
       "      <td>101.138519</td>\n",
       "      <td>125.674182</td>\n",
       "      <td>46.615448</td>\n",
       "    </tr>\n",
       "    <tr>\n",
       "      <th>24</th>\n",
       "      <td>149</td>\n",
       "      <td>127</td>\n",
       "      <td>181</td>\n",
       "      <td>84</td>\n",
       "      <td>99.463561</td>\n",
       "      <td>125.674182</td>\n",
       "      <td>44.821870</td>\n",
       "    </tr>\n",
       "    <tr>\n",
       "      <th>25</th>\n",
       "      <td>149</td>\n",
       "      <td>132</td>\n",
       "      <td>181</td>\n",
       "      <td>83</td>\n",
       "      <td>99.463561</td>\n",
       "      <td>127.663621</td>\n",
       "      <td>41.725292</td>\n",
       "    </tr>\n",
       "    <tr>\n",
       "      <th>26</th>\n",
       "      <td>149</td>\n",
       "      <td>135</td>\n",
       "      <td>181</td>\n",
       "      <td>82</td>\n",
       "      <td>99.984999</td>\n",
       "      <td>127.663621</td>\n",
       "      <td>38.897301</td>\n",
       "    </tr>\n",
       "    <tr>\n",
       "      <th>27</th>\n",
       "      <td>149</td>\n",
       "      <td>138</td>\n",
       "      <td>181</td>\n",
       "      <td>79</td>\n",
       "      <td>102.591423</td>\n",
       "      <td>127.663621</td>\n",
       "      <td>34.655447</td>\n",
       "    </tr>\n",
       "    <tr>\n",
       "      <th>28</th>\n",
       "      <td>149</td>\n",
       "      <td>141</td>\n",
       "      <td>181</td>\n",
       "      <td>75</td>\n",
       "      <td>106.301458</td>\n",
       "      <td>127.663621</td>\n",
       "      <td>29.698485</td>\n",
       "    </tr>\n",
       "    <tr>\n",
       "      <th>29</th>\n",
       "      <td>149</td>\n",
       "      <td>141</td>\n",
       "      <td>181</td>\n",
       "      <td>75</td>\n",
       "      <td>106.301458</td>\n",
       "      <td>127.663621</td>\n",
       "      <td>29.698485</td>\n",
       "    </tr>\n",
       "    <tr>\n",
       "      <th>...</th>\n",
       "      <td>...</td>\n",
       "      <td>...</td>\n",
       "      <td>...</td>\n",
       "      <td>...</td>\n",
       "      <td>...</td>\n",
       "      <td>...</td>\n",
       "      <td>...</td>\n",
       "    </tr>\n",
       "    <tr>\n",
       "      <th>69</th>\n",
       "      <td>183</td>\n",
       "      <td>154</td>\n",
       "      <td>110</td>\n",
       "      <td>107</td>\n",
       "      <td>29.154759</td>\n",
       "      <td>57.384667</td>\n",
       "      <td>50.487622</td>\n",
       "    </tr>\n",
       "    <tr>\n",
       "      <th>70</th>\n",
       "      <td>183</td>\n",
       "      <td>154</td>\n",
       "      <td>110</td>\n",
       "      <td>107</td>\n",
       "      <td>29.154759</td>\n",
       "      <td>57.384667</td>\n",
       "      <td>50.487622</td>\n",
       "    </tr>\n",
       "    <tr>\n",
       "      <th>71</th>\n",
       "      <td>179</td>\n",
       "      <td>156</td>\n",
       "      <td>118</td>\n",
       "      <td>114</td>\n",
       "      <td>23.345235</td>\n",
       "      <td>64.195015</td>\n",
       "      <td>57.078893</td>\n",
       "    </tr>\n",
       "    <tr>\n",
       "      <th>72</th>\n",
       "      <td>179</td>\n",
       "      <td>156</td>\n",
       "      <td>118</td>\n",
       "      <td>114</td>\n",
       "      <td>23.345235</td>\n",
       "      <td>64.195015</td>\n",
       "      <td>57.078893</td>\n",
       "    </tr>\n",
       "    <tr>\n",
       "      <th>73</th>\n",
       "      <td>181</td>\n",
       "      <td>153</td>\n",
       "      <td>119</td>\n",
       "      <td>117</td>\n",
       "      <td>28.071338</td>\n",
       "      <td>65.787537</td>\n",
       "      <td>60.299254</td>\n",
       "    </tr>\n",
       "    <tr>\n",
       "      <th>74</th>\n",
       "      <td>181</td>\n",
       "      <td>153</td>\n",
       "      <td>119</td>\n",
       "      <td>117</td>\n",
       "      <td>28.071338</td>\n",
       "      <td>65.787537</td>\n",
       "      <td>60.299254</td>\n",
       "    </tr>\n",
       "    <tr>\n",
       "      <th>75</th>\n",
       "      <td>181</td>\n",
       "      <td>153</td>\n",
       "      <td>119</td>\n",
       "      <td>117</td>\n",
       "      <td>28.071338</td>\n",
       "      <td>65.787537</td>\n",
       "      <td>60.299254</td>\n",
       "    </tr>\n",
       "    <tr>\n",
       "      <th>76</th>\n",
       "      <td>181</td>\n",
       "      <td>153</td>\n",
       "      <td>119</td>\n",
       "      <td>117</td>\n",
       "      <td>28.071338</td>\n",
       "      <td>65.787537</td>\n",
       "      <td>60.299254</td>\n",
       "    </tr>\n",
       "    <tr>\n",
       "      <th>77</th>\n",
       "      <td>181</td>\n",
       "      <td>153</td>\n",
       "      <td>119</td>\n",
       "      <td>117</td>\n",
       "      <td>28.071338</td>\n",
       "      <td>65.787537</td>\n",
       "      <td>60.299254</td>\n",
       "    </tr>\n",
       "    <tr>\n",
       "      <th>78</th>\n",
       "      <td>180</td>\n",
       "      <td>157</td>\n",
       "      <td>125</td>\n",
       "      <td>121</td>\n",
       "      <td>23.345235</td>\n",
       "      <td>71.168813</td>\n",
       "      <td>64.031242</td>\n",
       "    </tr>\n",
       "    <tr>\n",
       "      <th>79</th>\n",
       "      <td>180</td>\n",
       "      <td>157</td>\n",
       "      <td>125</td>\n",
       "      <td>121</td>\n",
       "      <td>23.345235</td>\n",
       "      <td>71.168813</td>\n",
       "      <td>64.031242</td>\n",
       "    </tr>\n",
       "    <tr>\n",
       "      <th>80</th>\n",
       "      <td>180</td>\n",
       "      <td>157</td>\n",
       "      <td>125</td>\n",
       "      <td>121</td>\n",
       "      <td>23.345235</td>\n",
       "      <td>71.168813</td>\n",
       "      <td>64.031242</td>\n",
       "    </tr>\n",
       "    <tr>\n",
       "      <th>81</th>\n",
       "      <td>180</td>\n",
       "      <td>156</td>\n",
       "      <td>131</td>\n",
       "      <td>126</td>\n",
       "      <td>24.515301</td>\n",
       "      <td>76.922038</td>\n",
       "      <td>69.065187</td>\n",
       "    </tr>\n",
       "    <tr>\n",
       "      <th>82</th>\n",
       "      <td>179</td>\n",
       "      <td>152</td>\n",
       "      <td>138</td>\n",
       "      <td>127</td>\n",
       "      <td>29.154759</td>\n",
       "      <td>83.432608</td>\n",
       "      <td>70.349129</td>\n",
       "    </tr>\n",
       "    <tr>\n",
       "      <th>83</th>\n",
       "      <td>180</td>\n",
       "      <td>152</td>\n",
       "      <td>149</td>\n",
       "      <td>127</td>\n",
       "      <td>35.608988</td>\n",
       "      <td>94.366308</td>\n",
       "      <td>70.349129</td>\n",
       "    </tr>\n",
       "    <tr>\n",
       "      <th>84</th>\n",
       "      <td>169</td>\n",
       "      <td>152</td>\n",
       "      <td>156</td>\n",
       "      <td>134</td>\n",
       "      <td>27.802878</td>\n",
       "      <td>99.503769</td>\n",
       "      <td>77.317527</td>\n",
       "    </tr>\n",
       "    <tr>\n",
       "      <th>85</th>\n",
       "      <td>163</td>\n",
       "      <td>155</td>\n",
       "      <td>162</td>\n",
       "      <td>140</td>\n",
       "      <td>23.409400</td>\n",
       "      <td>105.076163</td>\n",
       "      <td>83.096330</td>\n",
       "    </tr>\n",
       "    <tr>\n",
       "      <th>86</th>\n",
       "      <td>156</td>\n",
       "      <td>156</td>\n",
       "      <td>173</td>\n",
       "      <td>148</td>\n",
       "      <td>25.000000</td>\n",
       "      <td>116.038787</td>\n",
       "      <td>91.049437</td>\n",
       "    </tr>\n",
       "    <tr>\n",
       "      <th>87</th>\n",
       "      <td>152</td>\n",
       "      <td>160</td>\n",
       "      <td>176</td>\n",
       "      <td>151</td>\n",
       "      <td>26.248809</td>\n",
       "      <td>119.205705</td>\n",
       "      <td>94.005319</td>\n",
       "    </tr>\n",
       "    <tr>\n",
       "      <th>88</th>\n",
       "      <td>149</td>\n",
       "      <td>165</td>\n",
       "      <td>182</td>\n",
       "      <td>158</td>\n",
       "      <td>28.844410</td>\n",
       "      <td>125.399362</td>\n",
       "      <td>101.178061</td>\n",
       "    </tr>\n",
       "    <tr>\n",
       "      <th>89</th>\n",
       "      <td>149</td>\n",
       "      <td>168</td>\n",
       "      <td>182</td>\n",
       "      <td>162</td>\n",
       "      <td>27.586228</td>\n",
       "      <td>125.399362</td>\n",
       "      <td>105.385008</td>\n",
       "    </tr>\n",
       "    <tr>\n",
       "      <th>90</th>\n",
       "      <td>149</td>\n",
       "      <td>170</td>\n",
       "      <td>182</td>\n",
       "      <td>170</td>\n",
       "      <td>24.186773</td>\n",
       "      <td>125.399362</td>\n",
       "      <td>113.534136</td>\n",
       "    </tr>\n",
       "    <tr>\n",
       "      <th>91</th>\n",
       "      <td>149</td>\n",
       "      <td>170</td>\n",
       "      <td>182</td>\n",
       "      <td>170</td>\n",
       "      <td>24.186773</td>\n",
       "      <td>125.399362</td>\n",
       "      <td>113.534136</td>\n",
       "    </tr>\n",
       "    <tr>\n",
       "      <th>92</th>\n",
       "      <td>149</td>\n",
       "      <td>170</td>\n",
       "      <td>182</td>\n",
       "      <td>170</td>\n",
       "      <td>24.186773</td>\n",
       "      <td>125.399362</td>\n",
       "      <td>113.534136</td>\n",
       "    </tr>\n",
       "    <tr>\n",
       "      <th>93</th>\n",
       "      <td>149</td>\n",
       "      <td>170</td>\n",
       "      <td>182</td>\n",
       "      <td>170</td>\n",
       "      <td>24.186773</td>\n",
       "      <td>125.399362</td>\n",
       "      <td>113.534136</td>\n",
       "    </tr>\n",
       "    <tr>\n",
       "      <th>94</th>\n",
       "      <td>149</td>\n",
       "      <td>170</td>\n",
       "      <td>182</td>\n",
       "      <td>170</td>\n",
       "      <td>24.186773</td>\n",
       "      <td>125.399362</td>\n",
       "      <td>113.534136</td>\n",
       "    </tr>\n",
       "    <tr>\n",
       "      <th>95</th>\n",
       "      <td>149</td>\n",
       "      <td>170</td>\n",
       "      <td>182</td>\n",
       "      <td>170</td>\n",
       "      <td>24.186773</td>\n",
       "      <td>125.399362</td>\n",
       "      <td>113.534136</td>\n",
       "    </tr>\n",
       "    <tr>\n",
       "      <th>96</th>\n",
       "      <td>149</td>\n",
       "      <td>170</td>\n",
       "      <td>182</td>\n",
       "      <td>170</td>\n",
       "      <td>24.186773</td>\n",
       "      <td>125.399362</td>\n",
       "      <td>113.534136</td>\n",
       "    </tr>\n",
       "    <tr>\n",
       "      <th>97</th>\n",
       "      <td>149</td>\n",
       "      <td>170</td>\n",
       "      <td>182</td>\n",
       "      <td>170</td>\n",
       "      <td>24.186773</td>\n",
       "      <td>125.399362</td>\n",
       "      <td>113.534136</td>\n",
       "    </tr>\n",
       "    <tr>\n",
       "      <th>98</th>\n",
       "      <td>149</td>\n",
       "      <td>170</td>\n",
       "      <td>182</td>\n",
       "      <td>170</td>\n",
       "      <td>24.186773</td>\n",
       "      <td>125.399362</td>\n",
       "      <td>113.534136</td>\n",
       "    </tr>\n",
       "  </tbody>\n",
       "</table>\n",
       "<p>99 rows × 7 columns</p>\n",
       "</div>"
      ],
      "text/plain": [
       "       left-x  right-x  left-y  right-y   hand_dist  lnose_dist  rnose_dist\n",
       "frame                                                                      \n",
       "0         149      170     181      175   21.840330  119.603512  113.357840\n",
       "1         149      170     181      175   21.840330  119.603512  113.357840\n",
       "2         149      170     181      175   21.840330  119.603512  113.357840\n",
       "3         149      170     181      175   21.840330  119.603512  113.357840\n",
       "4         149      170     181      175   21.840330  119.603512  113.357840\n",
       "5         149      170     181      175   21.840330  119.603512  113.357840\n",
       "6         149      170     181      175   21.840330  119.603512  113.357840\n",
       "7         149      170     181      175   21.840330  119.603512  113.357840\n",
       "8         149      170     181      175   21.840330  119.603512  113.357840\n",
       "9         149      170     181      175   21.840330  119.603512  113.357840\n",
       "10        149      170     181      175   21.840330  119.603512  113.357840\n",
       "11        149      169     181      173   21.540659  119.603512  111.287915\n",
       "12        149      167     181      165   24.083189  119.603512  103.174609\n",
       "13        149      166     181      160   27.018512  119.603512   98.127468\n",
       "14        149      164     181      149   35.341194  119.603512   87.051709\n",
       "15        149      158     181      133   48.836462  119.603512   71.063352\n",
       "16        149      153     181      119   62.128898  119.603512   57.558666\n",
       "17        149      140     181      109   72.560320  119.603512   51.478151\n",
       "18        149      126     181      100   84.202138  123.794184   55.973208\n",
       "19        149      114     181       94   93.776330  123.794184   60.802960\n",
       "20        149      110     181       89   99.924972  123.794184   61.400326\n",
       "21        149      110     181       89   99.924972  125.674182   61.587336\n",
       "22        149      115     181       86  100.900942  125.674182   55.758407\n",
       "23        149      124     181       83  101.138519  125.674182   46.615448\n",
       "24        149      127     181       84   99.463561  125.674182   44.821870\n",
       "25        149      132     181       83   99.463561  127.663621   41.725292\n",
       "26        149      135     181       82   99.984999  127.663621   38.897301\n",
       "27        149      138     181       79  102.591423  127.663621   34.655447\n",
       "28        149      141     181       75  106.301458  127.663621   29.698485\n",
       "29        149      141     181       75  106.301458  127.663621   29.698485\n",
       "...       ...      ...     ...      ...         ...         ...         ...\n",
       "69        183      154     110      107   29.154759   57.384667   50.487622\n",
       "70        183      154     110      107   29.154759   57.384667   50.487622\n",
       "71        179      156     118      114   23.345235   64.195015   57.078893\n",
       "72        179      156     118      114   23.345235   64.195015   57.078893\n",
       "73        181      153     119      117   28.071338   65.787537   60.299254\n",
       "74        181      153     119      117   28.071338   65.787537   60.299254\n",
       "75        181      153     119      117   28.071338   65.787537   60.299254\n",
       "76        181      153     119      117   28.071338   65.787537   60.299254\n",
       "77        181      153     119      117   28.071338   65.787537   60.299254\n",
       "78        180      157     125      121   23.345235   71.168813   64.031242\n",
       "79        180      157     125      121   23.345235   71.168813   64.031242\n",
       "80        180      157     125      121   23.345235   71.168813   64.031242\n",
       "81        180      156     131      126   24.515301   76.922038   69.065187\n",
       "82        179      152     138      127   29.154759   83.432608   70.349129\n",
       "83        180      152     149      127   35.608988   94.366308   70.349129\n",
       "84        169      152     156      134   27.802878   99.503769   77.317527\n",
       "85        163      155     162      140   23.409400  105.076163   83.096330\n",
       "86        156      156     173      148   25.000000  116.038787   91.049437\n",
       "87        152      160     176      151   26.248809  119.205705   94.005319\n",
       "88        149      165     182      158   28.844410  125.399362  101.178061\n",
       "89        149      168     182      162   27.586228  125.399362  105.385008\n",
       "90        149      170     182      170   24.186773  125.399362  113.534136\n",
       "91        149      170     182      170   24.186773  125.399362  113.534136\n",
       "92        149      170     182      170   24.186773  125.399362  113.534136\n",
       "93        149      170     182      170   24.186773  125.399362  113.534136\n",
       "94        149      170     182      170   24.186773  125.399362  113.534136\n",
       "95        149      170     182      170   24.186773  125.399362  113.534136\n",
       "96        149      170     182      170   24.186773  125.399362  113.534136\n",
       "97        149      170     182      170   24.186773  125.399362  113.534136\n",
       "98        149      170     182      170   24.186773  125.399362  113.534136\n",
       "\n",
       "[99 rows x 7 columns]"
      ]
     },
     "execution_count": 14,
     "metadata": {},
     "output_type": "execute_result"
    }
   ],
   "source": [
    "# TODO add features of your own design, which may be a combination of the above or something else\n",
    "# Name these whatever you would like\n",
    "\n",
    "# We will be adding distances between our reference point (nose and hands) as new features\n",
    "features_handdist = ['hand_dist']\n",
    "features_nosedist = ['lnose_dist', 'rnose_dist']\n",
    "asl.df['hand_dist'] = np.sqrt((asl.df['left-x'] - asl.df['right-x']) ** 2 + (asl.df['left-y'] - asl.df['right-y']) ** 2)\n",
    "asl.df['lnose_dist'] = np.sqrt((asl.df['left-x'] - asl.df['nose-x']) ** 2 + (asl.df['left-y'] - asl.df['nose-y']) ** 2)\n",
    "asl.df['rnose_dist'] = np.sqrt((asl.df['right-x'] - asl.df['nose-x']) ** 2 + (asl.df['right-y'] - asl.df['nose-y']) ** 2)\n",
    "\n",
    "# We will also be adding distance to nose from each of the hands\n",
    "\n",
    "# TODO define a list named 'features_custom' for building the training set\n",
    "features_custom = features_handdist + features_nosedist\n",
    "asl.df.ix[98][features + features_custom]"
   ]
  },
  {
   "cell_type": "markdown",
   "metadata": {
    "deletable": true,
    "editable": true
   },
   "source": [
    "**Question 1:**  What custom features did you choose for the features_custom set and why?\n",
    "\n",
    "**Answer 1:** \n",
    "We have added 3 additional features to our set of features:\n",
    "\n",
    "* Distance between hands: This will provide the distance between left and right hands. \n",
    "* Distances relative to the nose: This will provide the both distances between left hand and nose, and between right hand and nose\n",
    "\n",
    "We have chosen these features because the pattern that can be build from an specific set of movements of a specific sign in ASL will be very different for each sign, as we are not only considering an axis, but the combination of both of them, and one relative to the other. \n",
    "For example: for the words \"I\" and \"We\", having the y axis as a feature gives us a pretty similar pattern for both of them, but if we chose the distance instead, the 2 very simmilar signs now become completely different when represented as the distance between the hands, or even as the distance between a hand and nose.\n",
    "Moreover it can be easily computed from the information we already have (left and right hands coordinates)\n"
   ]
  },
  {
   "cell_type": "markdown",
   "metadata": {
    "deletable": true,
    "editable": true
   },
   "source": [
    "<a id='part1_test'></a>\n",
    "### Features Unit Testing\n",
    "Run the following unit tests as a sanity check on the defined \"ground\", \"norm\", \"polar\", and 'delta\"\n",
    "feature sets.  The test simply looks for some valid values but is not exhaustive.  However, the project should not be submitted if these tests don't pass."
   ]
  },
  {
   "cell_type": "code",
   "execution_count": 15,
   "metadata": {
    "collapsed": false,
    "deletable": true,
    "editable": true
   },
   "outputs": [
    {
     "name": "stderr",
     "output_type": "stream",
     "text": [
      "....\n",
      "----------------------------------------------------------------------\n",
      "Ran 4 tests in 0.012s\n",
      "\n",
      "OK\n"
     ]
    },
    {
     "data": {
      "text/plain": [
       "<unittest.runner.TextTestResult run=4 errors=0 failures=0>"
      ]
     },
     "execution_count": 15,
     "metadata": {},
     "output_type": "execute_result"
    }
   ],
   "source": [
    "import unittest\n",
    "# import numpy as np\n",
    "\n",
    "class TestFeatures(unittest.TestCase):\n",
    "\n",
    "    def test_features_ground(self):\n",
    "        sample = (asl.df.ix[98, 1][features_ground]).tolist()\n",
    "        self.assertEqual(sample, [9, 113, -12, 119])\n",
    "\n",
    "    def test_features_norm(self):\n",
    "        sample = (asl.df.ix[98, 1][features_norm]).tolist()\n",
    "        np.testing.assert_almost_equal(sample, [ 1.153,  1.663, -0.891,  0.742], 3)\n",
    "\n",
    "    def test_features_polar(self):\n",
    "        sample = (asl.df.ix[98,1][features_polar]).tolist()\n",
    "        np.testing.assert_almost_equal(sample, [113.3578, 0.0794, 119.603, -0.1005], 3)\n",
    "\n",
    "    def test_features_delta(self):\n",
    "        sample = (asl.df.ix[98, 0][features_delta]).tolist()\n",
    "        self.assertEqual(sample, [0, 0, 0, 0])\n",
    "        sample = (asl.df.ix[98, 18][features_delta]).tolist()\n",
    "        self.assertTrue(sample in [[-16, -5, -2, 4], [-14, -9, 0, 0]], \"Sample value found was {}\".format(sample))\n",
    "                         \n",
    "suite = unittest.TestLoader().loadTestsFromModule(TestFeatures())\n",
    "unittest.TextTestRunner().run(suite)"
   ]
  },
  {
   "cell_type": "markdown",
   "metadata": {
    "collapsed": true,
    "deletable": true,
    "editable": true
   },
   "source": [
    "<a id='part2_tutorial'></a>\n",
    "## PART 2: Model Selection\n",
    "### Model Selection Tutorial\n",
    "The objective of Model Selection is to tune the number of states for each word HMM prior to testing on unseen data.  In this section you will explore three methods: \n",
    "- Log likelihood using cross-validation folds (CV)\n",
    "- Bayesian Information Criterion (BIC)\n",
    "- Discriminative Information Criterion (DIC) "
   ]
  },
  {
   "cell_type": "markdown",
   "metadata": {
    "deletable": true,
    "editable": true
   },
   "source": [
    "##### Train a single word\n",
    "Now that we have built a training set with sequence data, we can \"train\" models for each word.  As a simple starting example, we train a single word using Gaussian hidden Markov models (HMM).   By using the `fit` method during training, the [Baum-Welch Expectation-Maximization](https://en.wikipedia.org/wiki/Baum%E2%80%93Welch_algorithm) (EM) algorithm is invoked iteratively to find the best estimate for the model *for the number of hidden states specified* from a group of sample seequences. For this example, we *assume* the correct number of hidden states is 3, but that is just a guess.  How do we know what the \"best\" number of states for training is?  We will need to find some model selection technique to choose the best parameter."
   ]
  },
  {
   "cell_type": "code",
   "execution_count": 16,
   "metadata": {
    "collapsed": false,
    "deletable": true,
    "editable": true
   },
   "outputs": [
    {
     "name": "stdout",
     "output_type": "stream",
     "text": [
      "Number of states trained in model for BOOK is 3\n",
      "logL = -2331.1138127433205\n"
     ]
    }
   ],
   "source": [
    "import warnings\n",
    "from hmmlearn.hmm import GaussianHMM\n",
    "\n",
    "def train_a_word(word, num_hidden_states, features):\n",
    "    \n",
    "    warnings.filterwarnings(\"ignore\", category=DeprecationWarning)\n",
    "    training = asl.build_training(features)  \n",
    "    X, lengths = training.get_word_Xlengths(word)\n",
    "    model = GaussianHMM(n_components=num_hidden_states, n_iter=1000).fit(X, lengths)\n",
    "    logL = model.score(X, lengths)\n",
    "    return model, logL\n",
    "\n",
    "demoword = 'BOOK'\n",
    "model, logL = train_a_word(demoword, 3, features_ground)\n",
    "print(\"Number of states trained in model for {} is {}\".format(demoword, model.n_components))\n",
    "print(\"logL = {}\".format(logL))"
   ]
  },
  {
   "cell_type": "markdown",
   "metadata": {
    "deletable": true,
    "editable": true
   },
   "source": [
    "The HMM model has been trained and information can be pulled from the model, including means and variances for each feature and hidden state.  The [log likelihood](http://math.stackexchange.com/questions/892832/why-we-consider-log-likelihood-instead-of-likelihood-in-gaussian-distribution) for any individual sample or group of samples can also be calculated with the `score` method."
   ]
  },
  {
   "cell_type": "code",
   "execution_count": 17,
   "metadata": {
    "collapsed": false,
    "deletable": true,
    "editable": true
   },
   "outputs": [
    {
     "name": "stdout",
     "output_type": "stream",
     "text": [
      "Number of states trained in model for BOOK is 3\n",
      "hidden state #0\n",
      "mean =  [ -11.45300909   94.109178     19.03512475  102.2030162 ]\n",
      "variance =  [  77.403668    203.35441965   26.68898447  156.12444034]\n",
      "\n",
      "hidden state #1\n",
      "mean =  [ -3.46504869  50.66686933  14.02391587  52.04731066]\n",
      "variance =  [ 49.12346305  43.04799144  39.35109609  47.24195772]\n",
      "\n",
      "hidden state #2\n",
      "mean =  [ -1.12415027  69.44164191  17.02866283  77.7231196 ]\n",
      "variance =  [ 19.70434594  16.83041492  30.51552305  11.03678246]\n",
      "\n"
     ]
    }
   ],
   "source": [
    "def show_model_stats(word, model):\n",
    "    print(\"Number of states trained in model for {} is {}\".format(word, model.n_components))    \n",
    "    variance=np.array([np.diag(model.covars_[i]) for i in range(model.n_components)])    \n",
    "    for i in range(model.n_components):  # for each hidden state\n",
    "        print(\"hidden state #{}\".format(i))\n",
    "        print(\"mean = \", model.means_[i])\n",
    "        print(\"variance = \", variance[i])\n",
    "        print()\n",
    "    \n",
    "show_model_stats(demoword, model)"
   ]
  },
  {
   "cell_type": "markdown",
   "metadata": {
    "deletable": true,
    "editable": true
   },
   "source": [
    "##### Try it!\n",
    "Experiment by changing the feature set, word, and/or num_hidden_states values in the next cell to see changes in values.  "
   ]
  },
  {
   "cell_type": "code",
   "execution_count": 18,
   "metadata": {
    "collapsed": false,
    "deletable": true,
    "editable": true
   },
   "outputs": [
    {
     "name": "stdout",
     "output_type": "stream",
     "text": [
      "Number of states trained in model for JOHN is 2\n",
      "hidden state #0\n",
      "mean =  [-1.54687357 -4.26561817 -0.02343744 -0.16406205]\n",
      "variance =  [  7.30252627  31.59350056   9.39008896  19.73088095]\n",
      "\n",
      "hidden state #1\n",
      "mean =  [-1.41050404 -5.27760178  0.          0.        ]\n",
      "variance =  [  6.59141203e+00   3.54352858e+01   1.07181217e-05   1.07181217e-05]\n",
      "\n",
      "logL = 595.1001365047282\n"
     ]
    }
   ],
   "source": [
    "my_testword = 'JOHN'\n",
    "model, logL = train_a_word(my_testword, 2, features_delta) # Experiment here with different parameters\n",
    "show_model_stats(my_testword, model)\n",
    "print(\"logL = {}\".format(logL))"
   ]
  },
  {
   "cell_type": "markdown",
   "metadata": {
    "deletable": true,
    "editable": true
   },
   "source": [
    "##### Visualize the hidden states\n",
    "We can plot the means and variances for each state and feature.  Try varying the number of states trained for the HMM model and examine the variances.  Are there some models that are \"better\" than others?  How can you tell?  We would like to hear what you think in the classroom online."
   ]
  },
  {
   "cell_type": "code",
   "execution_count": 19,
   "metadata": {
    "collapsed": false,
    "deletable": true,
    "editable": true
   },
   "outputs": [],
   "source": [
    "%matplotlib inline"
   ]
  },
  {
   "cell_type": "code",
   "execution_count": 20,
   "metadata": {
    "collapsed": false,
    "deletable": true,
    "editable": true
   },
   "outputs": [
    {
     "data": {
      "image/png": "[encoded data removed]",
      "text/plain": [
       "<matplotlib.figure.Figure at 0x11ba99240>"
      ]
     },
     "metadata": {},
     "output_type": "display_data"
    },
    {
     "data": {
      "image/png": "[encoded data removed]",
      "text/plain": [
       "<matplotlib.figure.Figure at 0x11bb99a90>"
      ]
     },
     "metadata": {},
     "output_type": "display_data"
    },
    {
     "data": {
      "image/png": "[encoded data removed]",
      "text/plain": [
       "<matplotlib.figure.Figure at 0x11bc70b38>"
      ]
     },
     "metadata": {},
     "output_type": "display_data"
    },
    {
     "data": {
      "image/png": "[encoded data removed]",
      "text/plain": [
       "<matplotlib.figure.Figure at 0x11bd43b70>"
      ]
     },
     "metadata": {},
     "output_type": "display_data"
    }
   ],
   "source": [
    "import math\n",
    "from matplotlib import (cm, pyplot as plt, mlab)\n",
    "\n",
    "def visualize(word, model):\n",
    "    \"\"\" visualize the input model for a particular word \"\"\"\n",
    "    variance=np.array([np.diag(model.covars_[i]) for i in range(model.n_components)])\n",
    "    figures = []\n",
    "    for parm_idx in range(len(model.means_[0])):\n",
    "        xmin = int(min(model.means_[:,parm_idx]) - max(variance[:,parm_idx]))\n",
    "        xmax = int(max(model.means_[:,parm_idx]) + max(variance[:,parm_idx]))\n",
    "        fig, axs = plt.subplots(model.n_components, sharex=True, sharey=False)\n",
    "        colours = cm.rainbow(np.linspace(0, 1, model.n_components))\n",
    "        for i, (ax, colour) in enumerate(zip(axs, colours)):\n",
    "            x = np.linspace(xmin, xmax, 100)\n",
    "            mu = model.means_[i,parm_idx]\n",
    "            sigma = math.sqrt(np.diag(model.covars_[i])[parm_idx])\n",
    "            ax.plot(x, mlab.normpdf(x, mu, sigma), c=colour)\n",
    "            ax.set_title(\"{} feature {} hidden state #{}\".format(word, parm_idx, i))\n",
    "            #ax.axis([-30, 30, 0, 0.2])\n",
    "            ax.grid(True)\n",
    "        figures.append(plt)\n",
    "    for p in figures:\n",
    "        p.show()\n",
    "        \n",
    "visualize(my_testword, model)"
   ]
  },
  {
   "cell_type": "markdown",
   "metadata": {
    "deletable": true,
    "editable": true
   },
   "source": [
    "#####  ModelSelector class\n",
    "Review the `ModelSelector` class from the codebase found in the `my_model_selectors.py` module.  It is designed to be a strategy pattern for choosing different model selectors.  For the project submission in this section, subclass `SelectorModel` to implement the following model selectors.  In other words, you will write your own classes/functions in the `my_model_selectors.py` module and run them from this notebook:\n",
    "\n",
    "- `SelectorCV `:  Log likelihood with CV\n",
    "- `SelectorBIC`: BIC \n",
    "- `SelectorDIC`: DIC\n",
    "\n",
    "You will train each word in the training set with a range of values for the number of hidden states, and then score these alternatives with the model selector, choosing the \"best\" according to each strategy. The simple case of training with a constant value for `n_components` can be called using the provided `SelectorConstant` subclass as follow:"
   ]
  },
  {
   "cell_type": "code",
   "execution_count": 21,
   "metadata": {
    "collapsed": false,
    "deletable": true,
    "editable": true
   },
   "outputs": [
    {
     "name": "stdout",
     "output_type": "stream",
     "text": [
      "Number of states trained in model for CHOCOLATE is 3\n"
     ]
    }
   ],
   "source": [
    "from my_model_selectors import SelectorConstant\n",
    "\n",
    "training = asl.build_training(features_delta)  # Experiment here with different feature sets defined in part 1\n",
    "word = 'CHOCOLATE' # Experiment here with different words\n",
    "model = SelectorConstant(training.get_all_sequences(), training.get_all_Xlengths(), word, n_constant=3).select()\n",
    "print(\"Number of states trained in model for {} is {}\".format(word, model.n_components))"
   ]
  },
  {
   "cell_type": "markdown",
   "metadata": {
    "deletable": true,
    "editable": true
   },
   "source": [
    "##### Cross-validation folds\n",
    "If we simply score the model with the Log Likelihood calculated from the feature sequences it has been trained on, we should expect that more complex models will have higher likelihoods. However, that doesn't tell us which would have a better likelihood score on unseen data.  The model will likely be overfit as complexity is added.  To estimate which topology model is better using only the training data, we can compare scores using cross-validation.  One technique for cross-validation is to break the training set into \"folds\" and rotate which fold is left out of training.  The \"left out\" fold scored.  This gives us a proxy method of finding the best model to use on \"unseen data\". In the following example, a set of word sequences is broken into three folds using the [scikit-learn Kfold](http://scikit-learn.org/stable/modules/generated/sklearn.model_selection.KFold.html) class object. When you implement `SelectorCV`, you will use this technique."
   ]
  },
  {
   "cell_type": "code",
   "execution_count": 22,
   "metadata": {
    "collapsed": false,
    "deletable": true,
    "editable": true,
    "scrolled": false
   },
   "outputs": [
    {
     "name": "stdout",
     "output_type": "stream",
     "text": [
      "Train fold indices:[2 3 4 5] Test fold indices:[0 1]\n",
      "Word seqs all:  [[[-26, 52, 22, 134], [-26, 52, 22, 134], [-25, 46, 22, 134], [-25, 46, 22, 134], [-22, 42, 22, 134], [-24, 39, 20, 131], [-23, 40, 21, 132], [-21, 39, 21, 131], [-20, 38, 22, 130], [-21, 38, 21, 130], [-22, 37, 20, 129], [-20, 36, 22, 128], [-21, 37, 21, 129]], [[-22, 44, 26, 133], [-18, 40, 26, 133], [-21, 36, 26, 133], [-21, 36, 26, 133], [-21, 36, 26, 133], [-21, 36, 26, 133], [-21, 36, 26, 133], [-21, 36, 26, 133], [-21, 36, 26, 133]], [[-20, 48, 26, 183], [-21, 46, 26, 183], [-20, 43, 30, 183], [-20, 43, 30, 183], [-18, 42, 32, 182], [-18, 38, 32, 178], [-15, 35, 35, 175], [-16, 36, 35, 175], [-14, 41, 35, 175], [-13, 38, 36, 172], [-13, 41, 36, 172], [-11, 39, 38, 170], [-16, 36, 38, 170]], [[-20, 36, -14, 126], [-22, 35, -14, 126], [-22, 35, -14, 126], [-21, 31, -14, 126], [-18, 30, -14, 126], [-15, 30, -14, 126], [-13, 30, -14, 126], [-13, 30, -14, 126], [-16, 28, -14, 126], [-16, 31, -14, 126], [-15, 33, -14, 126], [-15, 35, -14, 126], [-15, 35, -14, 126], [-16, 33, -14, 126], [-16, 33, -14, 126], [-16, 33, -14, 126], [-16, 33, -14, 126]], [[-19, 39, -11, 124], [-19, 39, -11, 124], [-19, 39, -11, 124], [-19, 39, -11, 124], [-16, 37, -11, 126], [-16, 37, -11, 126], [-16, 37, -11, 126], [-17, 34, -11, 126], [-20, 32, -11, 126], [-20, 32, -11, 126], [-20, 32, -11, 126], [-20, 32, -11, 126], [-20, 32, -11, 126], [-20, 32, -11, 126], [-18, 35, -9, 129], [-20, 31, -9, 129]], [[-7, 53, 31, 184], [-12, 50, 31, 184], [-12, 50, 31, 184], [-18, 42, 29, 180], [-18, 42, 29, 180], [-18, 42, 29, 180], [-16, 39, 31, 177], [-16, 39, 31, 177], [-17, 45, 31, 177], [-12, 44, 33, 173], [-12, 44, 33, 173], [-12, 44, 33, 173], [-12, 44, 33, 173]]]\n",
      "Combined seqs all:  [[-20, 48, 26, 183], [-21, 46, 26, 183], [-20, 43, 30, 183], [-20, 43, 30, 183], [-18, 42, 32, 182], [-18, 38, 32, 178], [-15, 35, 35, 175], [-16, 36, 35, 175], [-14, 41, 35, 175], [-13, 38, 36, 172], [-13, 41, 36, 172], [-11, 39, 38, 170], [-16, 36, 38, 170], [-20, 36, -14, 126], [-22, 35, -14, 126], [-22, 35, -14, 126], [-21, 31, -14, 126], [-18, 30, -14, 126], [-15, 30, -14, 126], [-13, 30, -14, 126], [-13, 30, -14, 126], [-16, 28, -14, 126], [-16, 31, -14, 126], [-15, 33, -14, 126], [-15, 35, -14, 126], [-15, 35, -14, 126], [-16, 33, -14, 126], [-16, 33, -14, 126], [-16, 33, -14, 126], [-16, 33, -14, 126], [-19, 39, -11, 124], [-19, 39, -11, 124], [-19, 39, -11, 124], [-19, 39, -11, 124], [-16, 37, -11, 126], [-16, 37, -11, 126], [-16, 37, -11, 126], [-17, 34, -11, 126], [-20, 32, -11, 126], [-20, 32, -11, 126], [-20, 32, -11, 126], [-20, 32, -11, 126], [-20, 32, -11, 126], [-20, 32, -11, 126], [-18, 35, -9, 129], [-20, 31, -9, 129], [-7, 53, 31, 184], [-12, 50, 31, 184], [-12, 50, 31, 184], [-18, 42, 29, 180], [-18, 42, 29, 180], [-18, 42, 29, 180], [-16, 39, 31, 177], [-16, 39, 31, 177], [-17, 45, 31, 177], [-12, 44, 33, 173], [-12, 44, 33, 173], [-12, 44, 33, 173], [-12, 44, 33, 173]]\n",
      "Train fold indices:[0 1 4 5] Test fold indices:[2 3]\n",
      "Word seqs all:  [[[-26, 52, 22, 134], [-26, 52, 22, 134], [-25, 46, 22, 134], [-25, 46, 22, 134], [-22, 42, 22, 134], [-24, 39, 20, 131], [-23, 40, 21, 132], [-21, 39, 21, 131], [-20, 38, 22, 130], [-21, 38, 21, 130], [-22, 37, 20, 129], [-20, 36, 22, 128], [-21, 37, 21, 129]], [[-22, 44, 26, 133], [-18, 40, 26, 133], [-21, 36, 26, 133], [-21, 36, 26, 133], [-21, 36, 26, 133], [-21, 36, 26, 133], [-21, 36, 26, 133], [-21, 36, 26, 133], [-21, 36, 26, 133]], [[-20, 48, 26, 183], [-21, 46, 26, 183], [-20, 43, 30, 183], [-20, 43, 30, 183], [-18, 42, 32, 182], [-18, 38, 32, 178], [-15, 35, 35, 175], [-16, 36, 35, 175], [-14, 41, 35, 175], [-13, 38, 36, 172], [-13, 41, 36, 172], [-11, 39, 38, 170], [-16, 36, 38, 170]], [[-20, 36, -14, 126], [-22, 35, -14, 126], [-22, 35, -14, 126], [-21, 31, -14, 126], [-18, 30, -14, 126], [-15, 30, -14, 126], [-13, 30, -14, 126], [-13, 30, -14, 126], [-16, 28, -14, 126], [-16, 31, -14, 126], [-15, 33, -14, 126], [-15, 35, -14, 126], [-15, 35, -14, 126], [-16, 33, -14, 126], [-16, 33, -14, 126], [-16, 33, -14, 126], [-16, 33, -14, 126]], [[-19, 39, -11, 124], [-19, 39, -11, 124], [-19, 39, -11, 124], [-19, 39, -11, 124], [-16, 37, -11, 126], [-16, 37, -11, 126], [-16, 37, -11, 126], [-17, 34, -11, 126], [-20, 32, -11, 126], [-20, 32, -11, 126], [-20, 32, -11, 126], [-20, 32, -11, 126], [-20, 32, -11, 126], [-20, 32, -11, 126], [-18, 35, -9, 129], [-20, 31, -9, 129]], [[-7, 53, 31, 184], [-12, 50, 31, 184], [-12, 50, 31, 184], [-18, 42, 29, 180], [-18, 42, 29, 180], [-18, 42, 29, 180], [-16, 39, 31, 177], [-16, 39, 31, 177], [-17, 45, 31, 177], [-12, 44, 33, 173], [-12, 44, 33, 173], [-12, 44, 33, 173], [-12, 44, 33, 173]]]\n",
      "Combined seqs all:  [[-26, 52, 22, 134], [-26, 52, 22, 134], [-25, 46, 22, 134], [-25, 46, 22, 134], [-22, 42, 22, 134], [-24, 39, 20, 131], [-23, 40, 21, 132], [-21, 39, 21, 131], [-20, 38, 22, 130], [-21, 38, 21, 130], [-22, 37, 20, 129], [-20, 36, 22, 128], [-21, 37, 21, 129], [-22, 44, 26, 133], [-18, 40, 26, 133], [-21, 36, 26, 133], [-21, 36, 26, 133], [-21, 36, 26, 133], [-21, 36, 26, 133], [-21, 36, 26, 133], [-21, 36, 26, 133], [-21, 36, 26, 133], [-19, 39, -11, 124], [-19, 39, -11, 124], [-19, 39, -11, 124], [-19, 39, -11, 124], [-16, 37, -11, 126], [-16, 37, -11, 126], [-16, 37, -11, 126], [-17, 34, -11, 126], [-20, 32, -11, 126], [-20, 32, -11, 126], [-20, 32, -11, 126], [-20, 32, -11, 126], [-20, 32, -11, 126], [-20, 32, -11, 126], [-18, 35, -9, 129], [-20, 31, -9, 129], [-7, 53, 31, 184], [-12, 50, 31, 184], [-12, 50, 31, 184], [-18, 42, 29, 180], [-18, 42, 29, 180], [-18, 42, 29, 180], [-16, 39, 31, 177], [-16, 39, 31, 177], [-17, 45, 31, 177], [-12, 44, 33, 173], [-12, 44, 33, 173], [-12, 44, 33, 173], [-12, 44, 33, 173]]\n",
      "Train fold indices:[0 1 2 3] Test fold indices:[4 5]\n",
      "Word seqs all:  [[[-26, 52, 22, 134], [-26, 52, 22, 134], [-25, 46, 22, 134], [-25, 46, 22, 134], [-22, 42, 22, 134], [-24, 39, 20, 131], [-23, 40, 21, 132], [-21, 39, 21, 131], [-20, 38, 22, 130], [-21, 38, 21, 130], [-22, 37, 20, 129], [-20, 36, 22, 128], [-21, 37, 21, 129]], [[-22, 44, 26, 133], [-18, 40, 26, 133], [-21, 36, 26, 133], [-21, 36, 26, 133], [-21, 36, 26, 133], [-21, 36, 26, 133], [-21, 36, 26, 133], [-21, 36, 26, 133], [-21, 36, 26, 133]], [[-20, 48, 26, 183], [-21, 46, 26, 183], [-20, 43, 30, 183], [-20, 43, 30, 183], [-18, 42, 32, 182], [-18, 38, 32, 178], [-15, 35, 35, 175], [-16, 36, 35, 175], [-14, 41, 35, 175], [-13, 38, 36, 172], [-13, 41, 36, 172], [-11, 39, 38, 170], [-16, 36, 38, 170]], [[-20, 36, -14, 126], [-22, 35, -14, 126], [-22, 35, -14, 126], [-21, 31, -14, 126], [-18, 30, -14, 126], [-15, 30, -14, 126], [-13, 30, -14, 126], [-13, 30, -14, 126], [-16, 28, -14, 126], [-16, 31, -14, 126], [-15, 33, -14, 126], [-15, 35, -14, 126], [-15, 35, -14, 126], [-16, 33, -14, 126], [-16, 33, -14, 126], [-16, 33, -14, 126], [-16, 33, -14, 126]], [[-19, 39, -11, 124], [-19, 39, -11, 124], [-19, 39, -11, 124], [-19, 39, -11, 124], [-16, 37, -11, 126], [-16, 37, -11, 126], [-16, 37, -11, 126], [-17, 34, -11, 126], [-20, 32, -11, 126], [-20, 32, -11, 126], [-20, 32, -11, 126], [-20, 32, -11, 126], [-20, 32, -11, 126], [-20, 32, -11, 126], [-18, 35, -9, 129], [-20, 31, -9, 129]], [[-7, 53, 31, 184], [-12, 50, 31, 184], [-12, 50, 31, 184], [-18, 42, 29, 180], [-18, 42, 29, 180], [-18, 42, 29, 180], [-16, 39, 31, 177], [-16, 39, 31, 177], [-17, 45, 31, 177], [-12, 44, 33, 173], [-12, 44, 33, 173], [-12, 44, 33, 173], [-12, 44, 33, 173]]]\n",
      "Combined seqs all:  [[-26, 52, 22, 134], [-26, 52, 22, 134], [-25, 46, 22, 134], [-25, 46, 22, 134], [-22, 42, 22, 134], [-24, 39, 20, 131], [-23, 40, 21, 132], [-21, 39, 21, 131], [-20, 38, 22, 130], [-21, 38, 21, 130], [-22, 37, 20, 129], [-20, 36, 22, 128], [-21, 37, 21, 129], [-22, 44, 26, 133], [-18, 40, 26, 133], [-21, 36, 26, 133], [-21, 36, 26, 133], [-21, 36, 26, 133], [-21, 36, 26, 133], [-21, 36, 26, 133], [-21, 36, 26, 133], [-21, 36, 26, 133], [-20, 48, 26, 183], [-21, 46, 26, 183], [-20, 43, 30, 183], [-20, 43, 30, 183], [-18, 42, 32, 182], [-18, 38, 32, 178], [-15, 35, 35, 175], [-16, 36, 35, 175], [-14, 41, 35, 175], [-13, 38, 36, 172], [-13, 41, 36, 172], [-11, 39, 38, 170], [-16, 36, 38, 170], [-20, 36, -14, 126], [-22, 35, -14, 126], [-22, 35, -14, 126], [-21, 31, -14, 126], [-18, 30, -14, 126], [-15, 30, -14, 126], [-13, 30, -14, 126], [-13, 30, -14, 126], [-16, 28, -14, 126], [-16, 31, -14, 126], [-15, 33, -14, 126], [-15, 35, -14, 126], [-15, 35, -14, 126], [-16, 33, -14, 126], [-16, 33, -14, 126], [-16, 33, -14, 126], [-16, 33, -14, 126]]\n"
     ]
    }
   ],
   "source": [
    "from sklearn.model_selection import KFold\n",
    "from asl_utils import combine_sequences\n",
    "\n",
    "training = asl.build_training(features_ground) # Experiment here with different feature sets\n",
    "word = 'VEGETABLE' # Experiment here with different words\n",
    "word_sequences = training.get_word_sequences(word)\n",
    "split_method = KFold()\n",
    "for cv_train_idx, cv_test_idx in split_method.split(word_sequences):\n",
    "    print(\"Train fold indices:{} Test fold indices:{}\".format(cv_train_idx, cv_test_idx))  # view indices of the folds\n",
    "    aaa,bbb = combine_sequences(cv_train_idx, word_sequences)\n",
    "    print(\"Word seqs all: \", word_sequences)\n",
    "    print(\"Combined seqs all: \", aaa)"
   ]
  },
  {
   "cell_type": "markdown",
   "metadata": {
    "deletable": true,
    "editable": true
   },
   "source": [
    "**Tip:** In order to run `hmmlearn` training using the X,lengths tuples on the new folds, subsets must be combined based on the indices given for the folds.  A helper utility has been provided in the `asl_utils` module named `combine_sequences` for this purpose."
   ]
  },
  {
   "cell_type": "markdown",
   "metadata": {
    "deletable": true,
    "editable": true
   },
   "source": [
    "##### Scoring models with other criterion\n",
    "Scoring model topologies with **BIC** balances fit and complexity within the training set for each word.  In the BIC equation, a penalty term penalizes complexity to avoid overfitting, so that it is not necessary to also use cross-validation in the selection process.  There are a number of references on the internet for this criterion.  These [slides](http://www2.imm.dtu.dk/courses/02433/doc/ch6_slides.pdf) include a formula you may find helpful for your implementation.\n",
    "\n",
    "The advantages of scoring model topologies with **DIC** over BIC are presented by Alain Biem in this [reference](http://citeseerx.ist.psu.edu/viewdoc/download?doi=10.1.1.58.6208&rep=rep1&type=pdf) (also found [here](https://pdfs.semanticscholar.org/ed3d/7c4a5f607201f3848d4c02dd9ba17c791fc2.pdf)).  DIC scores the discriminant ability of a training set for one word against competing words.  Instead of a penalty term for complexity, it provides a penalty if model liklihoods for non-matching words are too similar to model likelihoods for the correct word in the word set."
   ]
  },
  {
   "cell_type": "markdown",
   "metadata": {
    "deletable": true,
    "editable": true
   },
   "source": [
    "<a id='part2_submission'></a>\n",
    "### Model Selection Implementation Submission\n",
    "Implement `SelectorCV`, `SelectorBIC`, and `SelectorDIC` classes in the `my_model_selectors.py` module.  Run the selectors on the following five words. Then answer the questions about your results.\n",
    "\n",
    "**Tip:** The `hmmlearn` library may not be able to train or score all models.  Implement try/except contructs as necessary to eliminate non-viable models from consideration."
   ]
  },
  {
   "cell_type": "code",
   "execution_count": 23,
   "metadata": {
    "collapsed": false,
    "deletable": true,
    "editable": true
   },
   "outputs": [],
   "source": [
    "words_to_train = ['FISH', 'BOOK', 'VEGETABLE', 'FUTURE', 'JOHN']\n",
    "import timeit"
   ]
  },
  {
   "cell_type": "code",
   "execution_count": 24,
   "metadata": {
    "collapsed": false,
    "deletable": true,
    "editable": true
   },
   "outputs": [],
   "source": [
    "# autoreload for automatically reloading changes made in my_model_selectors and my_recognizer\n",
    "%load_ext autoreload\n",
    "%autoreload 2"
   ]
  },
  {
   "cell_type": "code",
   "execution_count": 25,
   "metadata": {
    "collapsed": false,
    "deletable": true,
    "editable": true,
    "scrolled": false
   },
   "outputs": [
    {
     "name": "stdout",
     "output_type": "stream",
     "text": [
      "Training complete for FISH with 7 states with time 0.4118503000063356 seconds\n",
      "Training complete for BOOK with 5 states with time 4.235742066026432 seconds\n",
      "Training complete for VEGETABLE with 2 states with time 1.9121628460125066 seconds\n",
      "Training complete for FUTURE with 2 states with time 4.007953846012242 seconds\n",
      "Training complete for JOHN with 12 states with time 44.053873305994784 seconds\n"
     ]
    }
   ],
   "source": [
    "# TODO: Implement SelectorCV in my_model_selector.py\n",
    "from my_model_selectors import SelectorCV\n",
    "\n",
    "training = asl.build_training(features_ground)  # Experiment here with different feature sets defined in part 1\n",
    "sequences = training.get_all_sequences()\n",
    "Xlengths = training.get_all_Xlengths()\n",
    "for word in words_to_train:\n",
    "    start = timeit.default_timer()\n",
    "    model = SelectorCV(sequences, Xlengths, word, \n",
    "                    min_n_components=2, max_n_components=15, random_state = 14).select()\n",
    "    end = timeit.default_timer()-start\n",
    "    if model is not None:\n",
    "        print(\"Training complete for {} with {} states with time {} seconds\".format(word, model.n_components, end))\n",
    "    else:\n",
    "        print(\"Training failed for {}\".format(word))"
   ]
  },
  {
   "cell_type": "code",
   "execution_count": 26,
   "metadata": {
    "collapsed": false,
    "deletable": true,
    "editable": true
   },
   "outputs": [
    {
     "name": "stdout",
     "output_type": "stream",
     "text": [
      "Training complete for FISH with 5 states with time 0.37264333802158944 seconds\n",
      "Training complete for BOOK with 8 states with time 2.21282132199849 seconds\n",
      "Training complete for VEGETABLE with 9 states with time 0.8149335219932254 seconds\n",
      "Training complete for FUTURE with 4 states with time 2.419535647990415 seconds\n",
      "Training complete for JOHN with 13 states with time 23.302226873027394 seconds\n"
     ]
    }
   ],
   "source": [
    "# TODO: Implement SelectorBIC in module my_model_selectors.py\n",
    "from my_model_selectors import SelectorBIC\n",
    "\n",
    "training = asl.build_training(features_ground)  # Experiment here with different feature sets defined in part 1\n",
    "sequences = training.get_all_sequences()\n",
    "Xlengths = training.get_all_Xlengths()\n",
    "for word in words_to_train:\n",
    "    start = timeit.default_timer()\n",
    "    model = SelectorBIC(sequences, Xlengths, word, \n",
    "                    min_n_components=2, max_n_components=15, random_state = 14).select()\n",
    "    end = timeit.default_timer()-start\n",
    "    if model is not None:\n",
    "        print(\"Training complete for {} with {} states with time {} seconds\".format(word, model.n_components, end))\n",
    "    else:\n",
    "        print(\"Training failed for {}\".format(word))"
   ]
  },
  {
   "cell_type": "code",
   "execution_count": 27,
   "metadata": {
    "collapsed": false,
    "deletable": true,
    "editable": true,
    "scrolled": true
   },
   "outputs": [
    {
     "name": "stdout",
     "output_type": "stream",
     "text": [
      "Training complete for FISH with 3 states with time 1.6222747070132755 seconds\n",
      "Training complete for BOOK with 15 states with time 5.010866351018194 seconds\n",
      "Training complete for VEGETABLE with 15 states with time 4.005552539980272 seconds\n",
      "Training complete for FUTURE with 15 states with time 4.66665701099555 seconds\n",
      "Training complete for JOHN with 15 states with time 24.058365523989778 seconds\n"
     ]
    }
   ],
   "source": [
    "# TODO: Implement SelectorDIC in module my_model_selectors.py\n",
    "from my_model_selectors import SelectorDIC\n",
    "\n",
    "training = asl.build_training(features_ground)  # Experiment here with different feature sets defined in part 1\n",
    "sequences = training.get_all_sequences()\n",
    "Xlengths = training.get_all_Xlengths()\n",
    "for word in words_to_train:\n",
    "    start = timeit.default_timer()\n",
    "    model = SelectorDIC(sequences, Xlengths, word, \n",
    "                    min_n_components=2, max_n_components=15, random_state = 14).select()\n",
    "    end = timeit.default_timer()-start\n",
    "    if model is not None:\n",
    "        print(\"Training complete for {} with {} states with time {} seconds\".format(word, model.n_components, end))\n",
    "    else:\n",
    "        print(\"Training failed for {}\".format(word))"
   ]
  },
  {
   "cell_type": "markdown",
   "metadata": {
    "deletable": true,
    "editable": true
   },
   "source": [
    "**Question 2:**  Compare and contrast the possible advantages and disadvantages of the various model selectors implemented.\n",
    "\n",
    "**Answer 2:**\n",
    "\n",
    "The first thing that we need to clarify is that Cross-Validation is a technique that could be easily combined with toher approaches (like BIC, AIC or DIC) as it just tries to reduce overfitting by reserving part of our labeled data for training and the rest for testing. So the discussion here will focus mostly on BIC vs DIC.\n",
    "\n",
    "- BIC focuses on the likelihood of an input being recognized but penalizing the complexity of the model\n",
    "- DIC doesn't care about the complexity and just focuses looking for the model that most uniquely identifies the given word\n",
    "\n",
    "Taking this into account, DIC will usually provide a better accuracy with a training set where we have multiple copies of each word. As it focuses on trying to find the model that better uniquely identifies a word from the rest, having more copies of an specific word will provide better results. For our specific scenario, we dont have multiple copies for each of the words in our training sets. Some of them have only one or two copies. Thats the main reason why BIC may perform better (regarding accuracy) for the given feature set, as it doesnt suffer as much as DIC does from the lack of multiple copies of input words.\n",
    "\n",
    "Also, DIC will require usually more computational power, because it wont penalize a model for being complex (what usually reflects on the time a model takes to recognize a given input word). So when deciding which Selector to use its important to consider not only the available computational power and time, but also the avaialble labeled data we have in our training set.\n",
    "\n",
    "We will have the opporutnity to see the results of both BIC and DIC below when using them as part of our recognizer."
   ]
  },
  {
   "cell_type": "markdown",
   "metadata": {
    "deletable": true,
    "editable": true
   },
   "source": [
    "<a id='part2_test'></a>\n",
    "### Model Selector Unit Testing\n",
    "Run the following unit tests as a sanity check on the implemented model selectors.  The test simply looks for valid interfaces  but is not exhaustive. However, the project should not be submitted if these tests don't pass."
   ]
  },
  {
   "cell_type": "code",
   "execution_count": 28,
   "metadata": {
    "collapsed": false,
    "deletable": true,
    "editable": true
   },
   "outputs": [
    {
     "name": "stderr",
     "output_type": "stream",
     "text": [
      "....\n",
      "----------------------------------------------------------------------\n",
      "Ran 4 tests in 49.872s\n",
      "\n",
      "OK\n"
     ]
    },
    {
     "data": {
      "text/plain": [
       "<unittest.runner.TextTestResult run=4 errors=0 failures=0>"
      ]
     },
     "execution_count": 28,
     "metadata": {},
     "output_type": "execute_result"
    }
   ],
   "source": [
    "from asl_test_model_selectors import TestSelectors\n",
    "suite = unittest.TestLoader().loadTestsFromModule(TestSelectors())\n",
    "unittest.TextTestRunner().run(suite)"
   ]
  },
  {
   "cell_type": "markdown",
   "metadata": {
    "collapsed": false,
    "deletable": true,
    "editable": true
   },
   "source": [
    "<a id='part3_tutorial'></a>\n",
    "## PART 3: Recognizer\n",
    "The objective of this section is to \"put it all together\".  Using the four feature sets created and the three model selectors, you will experiment with the models and present your results.  Instead of training only five specific words as in the previous section, train the entire set with a feature set and model selector strategy.  \n",
    "### Recognizer Tutorial\n",
    "##### Train the full training set\n",
    "The following example trains the entire set with the example `features_ground` and `SelectorConstant` features and model selector.  Use this pattern for you experimentation and final submission cells.\n",
    "\n"
   ]
  },
  {
   "cell_type": "code",
   "execution_count": 29,
   "metadata": {
    "collapsed": false,
    "deletable": true,
    "editable": true
   },
   "outputs": [
    {
     "name": "stdout",
     "output_type": "stream",
     "text": [
      "Number of word models returned = 112\n"
     ]
    }
   ],
   "source": [
    "from my_model_selectors import SelectorConstant\n",
    "\n",
    "def train_all_words(features, model_selector):\n",
    "    training = asl.build_training(features)  # Experiment here with different feature sets defined in part 1\n",
    "    sequences = training.get_all_sequences()\n",
    "    Xlengths = training.get_all_Xlengths()\n",
    "    model_dict = {}\n",
    "    for word in training.words:\n",
    "        model = model_selector(sequences, Xlengths, word, \n",
    "                        n_constant=3).select()\n",
    "        model_dict[word]=model\n",
    "    return model_dict\n",
    "\n",
    "models = train_all_words(features_custom, SelectorBIC)\n",
    "print(\"Number of word models returned = {}\".format(len(models)))"
   ]
  },
  {
   "cell_type": "markdown",
   "metadata": {
    "deletable": true,
    "editable": true
   },
   "source": [
    "##### Load the test set\n",
    "The `build_test` method in `ASLdb` is similar to the `build_training` method already presented, but there are a few differences:\n",
    "- the object is type `SinglesData` \n",
    "- the internal dictionary keys are the index of the test word rather than the word itself\n",
    "- the getter methods are `get_all_sequences`, `get_all_Xlengths`, `get_item_sequences` and `get_item_Xlengths`"
   ]
  },
  {
   "cell_type": "code",
   "execution_count": 30,
   "metadata": {
    "collapsed": false,
    "deletable": true,
    "editable": true
   },
   "outputs": [
    {
     "name": "stdout",
     "output_type": "stream",
     "text": [
      "Number of test set items: 178\n",
      "Number of test set sentences: 40\n"
     ]
    }
   ],
   "source": [
    "test_set = asl.build_test(features_ground)\n",
    "print(\"Number of test set items: {}\".format(test_set.num_items))\n",
    "print(\"Number of test set sentences: {}\".format(len(test_set.sentences_index)))"
   ]
  },
  {
   "cell_type": "markdown",
   "metadata": {
    "deletable": true,
    "editable": true
   },
   "source": [
    "<a id='part3_submission'></a>\n",
    "### Recognizer Implementation Submission\n",
    "For the final project submission, students must implement a recognizer following guidance in the `my_recognizer.py` module.  Experiment with the four feature sets and the three model selection methods (that's 12 possible combinations). You can add and remove cells for experimentation or run the recognizers locally in some other way during your experiments, but retain the results for your discussion.  For submission, you will provide code cells of **only three** interesting combinations for your discussion (see questions below). At least one of these should produce a word error rate of less than 60%, i.e. WER < 0.60 . \n",
    "\n",
    "**Tip:** The hmmlearn library may not be able to train or score all models.  Implement try/except contructs as necessary to eliminate non-viable models from consideration."
   ]
  },
  {
   "cell_type": "code",
   "execution_count": 31,
   "metadata": {
    "collapsed": false,
    "deletable": true,
    "editable": true
   },
   "outputs": [],
   "source": [
    "# TODO implement the recognize method in my_recognizer\n",
    "from my_recognizer import recognize\n",
    "from asl_utils import show_errors"
   ]
  },
  {
   "cell_type": "code",
   "execution_count": 45,
   "metadata": {
    "collapsed": false,
    "deletable": true,
    "editable": true
   },
   "outputs": [
    {
     "name": "stdout",
     "output_type": "stream",
     "text": [
      "\n",
      "**** WER = 0.5112359550561798\n",
      "Total correct: 87 out of 178\n",
      "Video  Recognized                                                    Correct\n",
      "=====================================================================================================\n",
      "    2: *GO WRITE HOMEWORK                                            JOHN WRITE HOMEWORK\n",
      "    7: JOHN *PEOPLE GO *ARRIVE                                       JOHN CAN GO CAN\n",
      "   12: JOHN *WHAT *GO1 CAN                                           JOHN CAN GO CAN\n",
      "   21: JOHN *HOMEWORK WONT *FUTURE *GIVE1 *TEACHER *FUTURE *WHO      JOHN FISH WONT EAT BUT CAN EAT CHICKEN\n",
      "   25: JOHN LIKE *FUTURE *WHO IX                                     JOHN LIKE IX IX IX\n",
      "   28: JOHN *WHO *FUTURE *WHO IX                                     JOHN LIKE IX IX IX\n",
      "   30: JOHN LIKE *MARY *MARY *MARY                                   JOHN LIKE IX IX IX\n",
      "   36: *VISIT VEGETABLE *GIRL *GIVE *MARY *MARY                      MARY VEGETABLE KNOW IX LIKE CORN1\n",
      "   40: JOHN *VISIT *FUTURE1 *JOHN *MARY                              JOHN IX THINK MARY LOVE\n",
      "   43: JOHN *FUTURE BUY HOUSE                                        JOHN MUST BUY HOUSE\n",
      "   50: *JOHN *SEE BUY CAR *JOHN                                      FUTURE JOHN BUY CAR SHOULD\n",
      "   54: JOHN SHOULD *WHO BUY HOUSE                                    JOHN SHOULD NOT BUY HOUSE\n",
      "   57: *MARY *VISIT VISIT MARY                                       JOHN DECIDE VISIT MARY\n",
      "   67: *SHOULD FUTURE NOT BUY HOUSE                                  JOHN FUTURE NOT BUY HOUSE\n",
      "   71: JOHN *FINISH *GIVE1 MARY                                      JOHN WILL VISIT MARY\n",
      "   74: *IX *VISIT *GIVE MARY                                         JOHN NOT VISIT MARY\n",
      "   77: *JOHN BLAME *LOVE                                             ANN BLAME MARY\n",
      "   84: *HOMEWORK *STUDENT *HOMEWORK *COAT                            IX-1P FIND SOMETHING-ONE BOOK\n",
      "   89: *GIVE *GIVE GIVE *IX IX *ARRIVE *BOOK                         JOHN IX GIVE MAN IX NEW COAT\n",
      "   90: JOHN *HAVE IX SOMETHING-ONE WOMAN *COAT                       JOHN GIVE IX SOMETHING-ONE WOMAN BOOK\n",
      "   92: JOHN GIVE IX *WOMAN WOMAN BOOK                                JOHN GIVE IX SOMETHING-ONE WOMAN BOOK\n",
      "  100: POSS NEW CAR BREAK-DOWN                                       POSS NEW CAR BREAK-DOWN\n",
      "  105: JOHN *VEGETABLE                                               JOHN LEG\n",
      "  107: JOHN *IX *HAVE *GO *JANA                                      JOHN POSS FRIEND HAVE CANDY\n",
      "  108: WOMAN *BOOK                                                   WOMAN ARRIVE\n",
      "  113: IX CAR *IX *IX *BUY1                                          IX CAR BLUE SUE BUY\n",
      "  119: *PREFER *BUY1 *CAR CAR *GO                                    SUE BUY IX CAR BLUE\n",
      "  122: JOHN *GIVE1 BOOK                                              JOHN READ BOOK\n",
      "  139: JOHN *BUY1 WHAT *BLAME BOOK                                   JOHN BUY WHAT YESTERDAY BOOK\n",
      "  142: JOHN *NEW YESTERDAY WHAT BOOK                                 JOHN BUY YESTERDAY WHAT BOOK\n",
      "  158: LOVE JOHN WHO                                                 LOVE JOHN WHO\n",
      "  167: JOHN IX *VISIT *WOMAN MARY                                    JOHN IX SAY LOVE MARY\n",
      "  171: JOHN *IX BLAME                                                JOHN MARY BLAME\n",
      "  174: *JOHN *GIVE3 GIVE1 *YESTERDAY *JOHN                           PEOPLE GROUP GIVE1 JANA TOY\n",
      "  181: *EAT ARRIVE                                                   JOHN ARRIVE\n",
      "  184: ALL BOY *GIVE1 TEACHER APPLE                                  ALL BOY GIVE TEACHER APPLE\n",
      "  189: *MARY *VISIT *VISIT BOX                                       JOHN GIVE GIRL BOX\n",
      "  193: JOHN *HAVE *VISIT BOX                                         JOHN GIVE GIRL BOX\n",
      "  199: *LOVE CHOCOLATE *JOHN                                         LIKE CHOCOLATE WHO\n",
      "  201: JOHN *MAN *MAN *WOMAN BUY HOUSE                               JOHN TELL MARY IX-1P BUY HOUSE\n"
     ]
    }
   ],
   "source": [
    "# TODO Choose a feature set and model selector\n",
    "features = features_polar # change as needed\n",
    "model_selector = SelectorBIC # change as needed\n",
    "\n",
    "# TODO Recognize the test set and display the result with the show_errors method\n",
    "models = train_all_words(features, model_selector)\n",
    "test_set = asl.build_test(features)\n",
    "probabilities, guesses = recognize(models, test_set)\n",
    "show_errors(guesses, test_set)"
   ]
  },
  {
   "cell_type": "code",
   "execution_count": 33,
   "metadata": {
    "collapsed": false,
    "deletable": true,
    "editable": true
   },
   "outputs": [
    {
     "name": "stdout",
     "output_type": "stream",
     "text": [
      "\n",
      "**** WER = 0.5449438202247191\n",
      "Total correct: 81 out of 178\n",
      "Video  Recognized                                                    Correct\n",
      "=====================================================================================================\n",
      "    2: JOHN *NEW *GIVE1                                              JOHN WRITE HOMEWORK\n",
      "    7: JOHN CAN GO CAN                                               JOHN CAN GO CAN\n",
      "   12: JOHN *WHAT *JOHN CAN                                          JOHN CAN GO CAN\n",
      "   21: JOHN *NEW *JOHN *PREFER *GIVE1 *WHAT *FUTURE *WHO             JOHN FISH WONT EAT BUT CAN EAT CHICKEN\n",
      "   25: JOHN *IX IX *WHO IX                                           JOHN LIKE IX IX IX\n",
      "   28: JOHN *FUTURE IX *FUTURE *LOVE                                 JOHN LIKE IX IX IX\n",
      "   30: JOHN LIKE *MARY *MARY *MARY                                   JOHN LIKE IX IX IX\n",
      "   36: *IX *VISIT *GIVE *GIVE *MARY *MARY                            MARY VEGETABLE KNOW IX LIKE CORN1\n",
      "   40: JOHN *GO *GIVE *JOHN *MARY                                    JOHN IX THINK MARY LOVE\n",
      "   43: JOHN *IX BUY HOUSE                                            JOHN MUST BUY HOUSE\n",
      "   50: *JOHN *SEE BUY CAR *JOHN                                      FUTURE JOHN BUY CAR SHOULD\n",
      "   54: JOHN SHOULD NOT BUY HOUSE                                     JOHN SHOULD NOT BUY HOUSE\n",
      "   57: *MARY *GO *GO MARY                                            JOHN DECIDE VISIT MARY\n",
      "   67: *SHOULD FUTURE *MARY BUY HOUSE                                JOHN FUTURE NOT BUY HOUSE\n",
      "   71: JOHN *FUTURE *GIVE1 MARY                                      JOHN WILL VISIT MARY\n",
      "   74: *IX *GO *GO *VISIT                                            JOHN NOT VISIT MARY\n",
      "   77: *JOHN *GIVE1 MARY                                             ANN BLAME MARY\n",
      "   84: *HOMEWORK *GIVE1 *GIVE1 *COAT                                 IX-1P FIND SOMETHING-ONE BOOK\n",
      "   89: *GIVE *GIVE *WOMAN *WOMAN IX *ARRIVE *BOOK                    JOHN IX GIVE MAN IX NEW COAT\n",
      "   90: JOHN GIVE IX SOMETHING-ONE WOMAN *ARRIVE                      JOHN GIVE IX SOMETHING-ONE WOMAN BOOK\n",
      "   92: JOHN *WOMAN IX *WOMAN WOMAN BOOK                              JOHN GIVE IX SOMETHING-ONE WOMAN BOOK\n",
      "  100: POSS NEW CAR BREAK-DOWN                                       POSS NEW CAR BREAK-DOWN\n",
      "  105: JOHN *SEE                                                     JOHN LEG\n",
      "  107: JOHN POSS *HAVE HAVE *MARY                                    JOHN POSS FRIEND HAVE CANDY\n",
      "  108: *LOVE *LOVE                                                   WOMAN ARRIVE\n",
      "  113: IX CAR *IX *MARY *JOHN                                        IX CAR BLUE SUE BUY\n",
      "  119: *MARY *BUY1 IX *BLAME *IX                                     SUE BUY IX CAR BLUE\n",
      "  122: JOHN *GIVE1 BOOK                                              JOHN READ BOOK\n",
      "  139: JOHN *ARRIVE WHAT *MARY *ARRIVE                               JOHN BUY WHAT YESTERDAY BOOK\n",
      "  142: JOHN BUY YESTERDAY WHAT BOOK                                  JOHN BUY YESTERDAY WHAT BOOK\n",
      "  158: LOVE JOHN WHO                                                 LOVE JOHN WHO\n",
      "  167: JOHN *MARY *VISIT LOVE MARY                                   JOHN IX SAY LOVE MARY\n",
      "  171: *IX MARY BLAME                                                JOHN MARY BLAME\n",
      "  174: *JOHN *JOHN GIVE1 *YESTERDAY *JOHN                            PEOPLE GROUP GIVE1 JANA TOY\n",
      "  181: *EAT ARRIVE                                                   JOHN ARRIVE\n",
      "  184: *GO BOY *GIVE1 TEACHER *YESTERDAY                             ALL BOY GIVE TEACHER APPLE\n",
      "  189: *MARY *GO *YESTERDAY BOX                                      JOHN GIVE GIRL BOX\n",
      "  193: JOHN *GO *YESTERDAY BOX                                       JOHN GIVE GIRL BOX\n",
      "  199: *JOHN *STUDENT *GO                                            LIKE CHOCOLATE WHO\n",
      "  201: JOHN *MAN *LOVE *JOHN BUY HOUSE                               JOHN TELL MARY IX-1P BUY HOUSE\n"
     ]
    }
   ],
   "source": [
    "# TODO Choose a feature set and model selector\n",
    "features = features_polar \n",
    "model_selector = SelectorDIC \n",
    "# TODO Recognize the test set and display the result with the show_errors method\n",
    "models = train_all_words(features, model_selector)\n",
    "test_set = asl.build_test(features)\n",
    "probabilities, guesses = recognize(models, test_set)\n",
    "show_errors(guesses, test_set)"
   ]
  },
  {
   "cell_type": "code",
   "execution_count": 34,
   "metadata": {
    "collapsed": false,
    "deletable": true,
    "editable": true
   },
   "outputs": [
    {
     "name": "stdout",
     "output_type": "stream",
     "text": [
      "\n",
      "**** WER = 0.5561797752808989\n",
      "Total correct: 79 out of 178\n",
      "Video  Recognized                                                    Correct\n",
      "=====================================================================================================\n",
      "    2: *MARY *NEW *NEW                                               JOHN WRITE HOMEWORK\n",
      "    7: JOHN *HAVE *IX *WHAT                                          JOHN CAN GO CAN\n",
      "   12: JOHN *CAR *WHAT *WHAT                                         JOHN CAN GO CAN\n",
      "   21: JOHN *BUY *JOHN *WHO *ARRIVE *CAR *FUTURE *FUTURE             JOHN FISH WONT EAT BUT CAN EAT CHICKEN\n",
      "   25: JOHN LIKE *FUTURE *FUTURE *WOMAN                              JOHN LIKE IX IX IX\n",
      "   28: JOHN *FUTURE *FUTURE *WONT *MARY                              JOHN LIKE IX IX IX\n",
      "   30: JOHN *WOMAN *LOVE *WOMAN IX                                   JOHN LIKE IX IX IX\n",
      "   36: *VISIT *PREFER *GIRL *MARY LIKE *IX                           MARY VEGETABLE KNOW IX LIKE CORN1\n",
      "   40: JOHN *VISIT *GIRL MARY LOVE                                   JOHN IX THINK MARY LOVE\n",
      "   43: JOHN *NOT BUY HOUSE                                           JOHN MUST BUY HOUSE\n",
      "   50: *JOHN JOHN BUY CAR *HAVE                                      FUTURE JOHN BUY CAR SHOULD\n",
      "   54: JOHN SHOULD *FINISH BUY HOUSE                                 JOHN SHOULD NOT BUY HOUSE\n",
      "   57: JOHN *VISIT VISIT MARY                                        JOHN DECIDE VISIT MARY\n",
      "   67: JOHN FUTURE NOT *CHOCOLATE HOUSE                              JOHN FUTURE NOT BUY HOUSE\n",
      "   71: JOHN *FUTURE *EAT *WONT                                       JOHN WILL VISIT MARY\n",
      "   74: *IX *VISIT *MARY *IX                                          JOHN NOT VISIT MARY\n",
      "   77: *JOHN BLAME MARY                                              ANN BLAME MARY\n",
      "   84: *STUDENT *ARRIVE *JOHN BOOK                                   IX-1P FIND SOMETHING-ONE BOOK\n",
      "   89: *GIVE *GIVE GIVE *WOMAN *GIVE NEW *BOOK                       JOHN IX GIVE MAN IX NEW COAT\n",
      "   90: JOHN GIVE IX *ALL *GIVE BOOK                                  JOHN GIVE IX SOMETHING-ONE WOMAN BOOK\n",
      "   92: JOHN *WOMAN IX *WOMAN WOMAN BOOK                              JOHN GIVE IX SOMETHING-ONE WOMAN BOOK\n",
      "  100: *SOMETHING-ONE NEW *HOUSE BREAK-DOWN                          POSS NEW CAR BREAK-DOWN\n",
      "  105: JOHN *VEGETABLE                                               JOHN LEG\n",
      "  107: JOHN *GO *GIVE1 *WOMAN *MARY                                  JOHN POSS FRIEND HAVE CANDY\n",
      "  108: *FINISH ARRIVE                                                WOMAN ARRIVE\n",
      "  113: IX CAR BLUE *IX *BOX                                          IX CAR BLUE SUE BUY\n",
      "  119: *PREFER *BOX IX *ARRIVE *GIVE                                 SUE BUY IX CAR BLUE\n",
      "  122: JOHN *NEW BOOK                                                JOHN READ BOOK\n",
      "  139: JOHN *LOVE *CAR *POSS *CHOCOLATE                              JOHN BUY WHAT YESTERDAY BOOK\n",
      "  142: JOHN *STUDENT YESTERDAY *CAR BOOK                             JOHN BUY YESTERDAY WHAT BOOK\n",
      "  158: *ARRIVE JOHN WHO                                              LOVE JOHN WHO\n",
      "  167: JOHN IX *VISIT LOVE *LOVE                                     JOHN IX SAY LOVE MARY\n",
      "  171: JOHN *IX *ARRIVE                                              JOHN MARY BLAME\n",
      "  174: *HAVE *HAVE GIVE1 *APPLE *ARRIVE                              PEOPLE GROUP GIVE1 JANA TOY\n",
      "  181: *APPLE ARRIVE                                                 JOHN ARRIVE\n",
      "  184: ALL BOY *BLAME TEACHER APPLE                                  ALL BOY GIVE TEACHER APPLE\n",
      "  189: JOHN GIVE *APPLE BOX                                          JOHN GIVE GIRL BOX\n",
      "  193: JOHN GIVE GIRL *WHAT                                          JOHN GIVE GIRL BOX\n",
      "  199: *WOMAN *LOVE *FRANK                                           LIKE CHOCOLATE WHO\n",
      "  201: JOHN *MARY MARY *BOX *STUDENT HOUSE                           JOHN TELL MARY IX-1P BUY HOUSE\n"
     ]
    }
   ],
   "source": [
    "# TODO Choose a feature set and model selector\n",
    "features = features_custom \n",
    "model_selector = SelectorCV \n",
    "# TODO Recognize the test set and display the result with the show_errors method\n",
    "models = train_all_words(features, model_selector)\n",
    "test_set = asl.build_test(features)\n",
    "probabilities, guesses = recognize(models, test_set)\n",
    "show_errors(guesses, test_set)"
   ]
  },
  {
   "cell_type": "markdown",
   "metadata": {
    "deletable": true,
    "editable": true
   },
   "source": [
    "**Question 3:**  Summarize the error results from three combinations of features and model selectors.  What was the \"best\" combination and why?  What additional information might we use to improve our WER?  For more insight on improving WER, take a look at the introduction to Part 4.\n",
    "\n",
    "**Answer 3:**\n",
    "A little tool that evaluates all the 12 combinations was built to help us out with the analysis. After analyzing the 12 combinations of Selectors and Feature sets, we came up with the following results for each of them. Metrics for **WER** and **Running Time** are provided below: \n",
    "\n",
    "\n",
    "WER | CV | DIC | BIC | AVERAGE\n",
    ":---------|------------| ------------| ------------|\n",
    "**Norm** | 0.646067416\t| 0.595505618 |\t0.612359551 | **0.617977528**\n",
    "**Polar** | 0.58988764 | 0.54494382\t| 0.511235955\t| **0.548689139**\n",
    "**Delta** | 0.617977528\t| 0.623595506\t| 0.612359551\t| **0.617977528**\n",
    "**Custom** | 0.556179775\t| 0.58988764\t| 0.561797753\t| **0.56928839**\n",
    "**AVERAGE** | **0.60252809** | **0.588483146**\t| **0.574438202**\t\n",
    "\n",
    "\n",
    "\n",
    "TIME | CV | DIC | BIC | AVERAGE\n",
    ":---------|------------| ------------| ------------|\n",
    "**Norm** | 126.854624 | 218.7036579 | 75.7528348 |\t**140.4370389**\n",
    "**Polar** | 130.497833 | 233.8526018 | 80.26676893 | **148.2057346**\n",
    "**Delta** |152.1018391 | 231.1726661 | 89.17322612 | **157.4825771**\n",
    "**Custom** | 130.1124432 | 219.632822 | 74.337672 |\t**141.3609791**\n",
    "**AVERAGE** | **134.8916848** | **225.8404369** | **79.88262546**\t\n",
    "\n",
    "Note that the **Running Time** metrics are given just as a reference but are not considered as a decission point in out Feature-Selector combination selection.\n",
    "\n",
    "Based on the WER results, we can see that the best combinations are **Polar-BIC**, **Polar-DIC** and **Custom-CV** (ordered from most accurate to less accurate). In average the best set of features within our dataset are **Polar** and **Custom** and the best Selector is **BIC** (the last one also the most efficient one regarding running time)\n",
    "\n",
    "If we consider the results for Selector and Features separately we can come up with the following reasons why each of them may be working better for our domain:\n",
    " - **Polar feature set** is probably a beeter feature set compare to the others as we are, not only including the distance from the hands position relative to a common point but also the angle information (angle form by the hands position relative to the nose position and the x-axis (that has been swapped with y-axis in our case)). Normalized features are just performing a normalization among the different speakers and the proposed custom features (distance between hands) are just considering distances, being distance a feature that is more probable to be similar among different words. By including the distance to a reference point (nose location) as part of the custom feature we manage to improve its accuracy remarkably but not enough to beat polar features.\n",
    " - **BIC Selector** {See the explanation in Part2 as its directly applicable to the analysis here}\n",
    "\n",
    "The main limitation we face here is that we are considering every word separately with out taking into account the contextual relationship between words when forming a sentence. As an example, prepositions will usually stand before nouns, so the probability of having a noun after a specific preposition is much higher than verb, or even than another preposition, as its not common to have 2 prepositions together (unless its a phrasal verb, for which case we could probably have a dictionary of phrasal verbs that could help us improve the recognition of such formations). A way of improving our WER is considering the above mentioned contextual relationship between words in a sentence by adding probabilities of 2 words (or even more) being together."
   ]
  },
  {
   "cell_type": "markdown",
   "metadata": {
    "deletable": true,
    "editable": true
   },
   "source": [
    "<a id='part3_test'></a>\n",
    "### Recognizer Unit Tests\n",
    "Run the following unit tests as a sanity check on the defined recognizer.  The test simply looks for some valid values but is not exhaustive. However, the project should not be submitted if these tests don't pass."
   ]
  },
  {
   "cell_type": "code",
   "execution_count": 44,
   "metadata": {
    "collapsed": false,
    "deletable": true,
    "editable": true
   },
   "outputs": [
    {
     "name": "stderr",
     "output_type": "stream",
     "text": [
      "..\n",
      "----------------------------------------------------------------------\n",
      "Ran 2 tests in 32.751s\n",
      "\n",
      "OK\n"
     ]
    },
    {
     "data": {
      "text/plain": [
       "<unittest.runner.TextTestResult run=2 errors=0 failures=0>"
      ]
     },
     "execution_count": 44,
     "metadata": {},
     "output_type": "execute_result"
    }
   ],
   "source": [
    "from asl_test_recognizer import TestRecognize\n",
    "suite = unittest.TestLoader().loadTestsFromModule(TestRecognize())\n",
    "unittest.TextTestRunner().run(suite)"
   ]
  },
  {
   "cell_type": "markdown",
   "metadata": {
    "deletable": true,
    "editable": true
   },
   "source": [
    "<a id='part4_info'></a>\n",
    "## PART 4: (OPTIONAL)  Improve the WER with Language Models\n",
    "We've squeezed just about as much as we can out of the model and still only get about 50% of the words right! Surely we can do better than that.  Probability to the rescue again in the form of [statistical language models (SLM)](https://en.wikipedia.org/wiki/Language_model).  The basic idea is that each word has some probability of occurrence within the set, and some probability that it is adjacent to specific other words. We can use that additional information to make better choices.\n",
    "\n",
    "##### Additional reading and resources\n",
    "- [Introduction to N-grams (Stanford Jurafsky slides)](https://web.stanford.edu/class/cs124/lec/languagemodeling.pdf)\n",
    "- [Speech Recognition Techniques for a Sign Language Recognition System, Philippe Dreuw et al](https://www-i6.informatik.rwth-aachen.de/publications/download/154/Dreuw--2007.pdf) see the improved results of applying LM on *this* data!\n",
    "- [SLM data for *this* ASL dataset](ftp://wasserstoff.informatik.rwth-aachen.de/pub/rwth-boston-104/lm/)\n",
    "\n",
    "##### Optional challenge\n",
    "The recognizer you implemented in Part 3 is equivalent to a \"0-gram\" SLM.  Improve the WER with the SLM data provided with the data set in the link above using \"1-gram\", \"2-gram\", and/or \"3-gram\" statistics. The `probabilities` data you've already calculated will be useful and can be turned into a pandas DataFrame if desired (see next cell).  \n",
    "Good luck!  Share your results with the class!"
   ]
  },
  {
   "cell_type": "code",
   "execution_count": 36,
   "metadata": {
    "collapsed": false,
    "deletable": true,
    "editable": true
   },
   "outputs": [
    {
     "data": {
      "text/html": [
       "<div>\n",
       "<table border=\"1\" class=\"dataframe\">\n",
       "  <thead>\n",
       "    <tr style=\"text-align: right;\">\n",
       "      <th></th>\n",
       "      <th>0</th>\n",
       "    </tr>\n",
       "  </thead>\n",
       "  <tbody>\n",
       "    <tr>\n",
       "      <th>0</th>\n",
       "      <td>-156.458281</td>\n",
       "    </tr>\n",
       "    <tr>\n",
       "      <th>1</th>\n",
       "      <td>-154.294126</td>\n",
       "    </tr>\n",
       "    <tr>\n",
       "      <th>2</th>\n",
       "      <td>-326.808725</td>\n",
       "    </tr>\n",
       "    <tr>\n",
       "      <th>3</th>\n",
       "      <td>-167.097017</td>\n",
       "    </tr>\n",
       "    <tr>\n",
       "      <th>4</th>\n",
       "      <td>-71.484164</td>\n",
       "    </tr>\n",
       "  </tbody>\n",
       "</table>\n",
       "</div>"
      ],
      "text/plain": [
       "            0\n",
       "0 -156.458281\n",
       "1 -154.294126\n",
       "2 -326.808725\n",
       "3 -167.097017\n",
       "4  -71.484164"
      ]
     },
     "execution_count": 36,
     "metadata": {},
     "output_type": "execute_result"
    }
   ],
   "source": [
    "# create a DataFrame of log likelihoods for the test word items\n",
    "df_probs = pd.DataFrame(data=probabilities)\n",
    "df_probs.head()"
   ]
  }
 ],
 "metadata": {
  "anaconda-cloud": {},
  "kernelspec": {
   "display_name": "Python 3",
   "language": "python",
   "name": "python3"
  },
  "language_info": {
   "codemirror_mode": {
    "name": "ipython",
    "version": 3
   },
   "file_extension": ".py",
   "mimetype": "text/x-python",
   "name": "python",
   "nbconvert_exporter": "python",
   "pygments_lexer": "ipython3",
   "version": "3.6.0"
  },
  "nbpresent": {
   "slides": {
    "0a2d4faf-9fb8-4cee-853b-ed68b90f3f8a": {
     "id": "0a2d4faf-9fb8-4cee-853b-ed68b90f3f8a",
     "prev": null,
     "regions": {
      "3fb9ce83-fbb2-4995-832a-f8f400734ad3": {
       "attrs": {
        "height": 0.8,
        "width": 0.8,
        "x": 0.1,
        "y": 0.1
       },
       "content": {
        "cell": "1dbb9346-179b-4835-b430-6369d88f1a1b",
        "part": "whole"
       },
       "id": "3fb9ce83-fbb2-4995-832a-f8f400734ad3"
      }
     }
    },
    "1519a4fa-1588-4644-98de-9c43bf0aceb5": {
     "id": "1519a4fa-1588-4644-98de-9c43bf0aceb5",
     "prev": "8a712017-49b7-449f-8264-43a032ace902",
     "regions": {
      "29546121-ed11-44b7-8144-0c44e874098f": {
       "attrs": {
        "height": 0.8,
        "width": 0.8,
        "x": 0.1,
        "y": 0.1
       },
       "content": {
        "cell": "365590a4-6963-4812-a1cf-688f7b6bb9ff",
        "part": "whole"
       },
       "id": "29546121-ed11-44b7-8144-0c44e874098f"
      }
     }
    },
    "176eaccb-15dd-455d-bf07-504213e7aa01": {
     "id": "176eaccb-15dd-455d-bf07-504213e7aa01",
     "prev": "de6b30f4-2463-4901-92ed-aabad78e5e0f",
     "regions": {
      "1542aa9e-dc55-4b90-adef-bf5181872b42": {
       "attrs": {
        "height": 0.8,
        "width": 0.8,
        "x": 0.1,
        "y": 0.1
       },
       "content": {
        "cell": "5c242050-c1f7-4b3b-8103-2ea9d71a40dc",
        "part": "whole"
       },
       "id": "1542aa9e-dc55-4b90-adef-bf5181872b42"
      }
     }
    },
    "19091b36-b0e7-49b1-b501-ec05937e0da9": {
     "id": "19091b36-b0e7-49b1-b501-ec05937e0da9",
     "prev": "1983c02e-fb99-4c05-a728-e0c0ad7c06d8",
     "regions": {
      "6529a31c-8d45-425c-b1d7-d0ac6fca6a32": {
       "attrs": {
        "height": 0.8,
        "width": 0.8,
        "x": 0.1,
        "y": 0.1
       },
       "content": {
        "cell": "e766909d-9421-4aaf-9fb1-bc90d27e49e3",
        "part": "whole"
       },
       "id": "6529a31c-8d45-425c-b1d7-d0ac6fca6a32"
      }
     }
    },
    "1983c02e-fb99-4c05-a728-e0c0ad7c06d8": {
     "id": "1983c02e-fb99-4c05-a728-e0c0ad7c06d8",
     "prev": "176eaccb-15dd-455d-bf07-504213e7aa01",
     "regions": {
      "1c4e605d-7f22-4f30-b3fb-74b2937e7a4a": {
       "attrs": {
        "height": 0.8,
        "width": 0.8,
        "x": 0.1,
        "y": 0.1
       },
       "content": {
        "cell": "4d217204-e5c0-4568-bd30-12c2e41b681d",
        "part": "whole"
       },
       "id": "1c4e605d-7f22-4f30-b3fb-74b2937e7a4a"
      }
     }
    },
    "212b111f-4527-459c-8297-1db5580ee5c9": {
     "id": "212b111f-4527-459c-8297-1db5580ee5c9",
     "prev": "76898529-e49e-4663-8d02-8261dfe1d94b",
     "regions": {
      "2e4bd280-3cd6-47d0-9c81-17737b24053b": {
       "attrs": {
        "height": 0.8,
        "width": 0.8,
        "x": 0.1,
        "y": 0.1
       },
       "content": {
        "cell": "0c316996-9933-4b3d-82ec-259518dc8bc9",
        "part": "whole"
       },
       "id": "2e4bd280-3cd6-47d0-9c81-17737b24053b"
      }
     }
    },
    "23a7337f-a0cf-4ed4-baa9-ec06bfdc0579": {
     "id": "23a7337f-a0cf-4ed4-baa9-ec06bfdc0579",
     "prev": "e76e9a02-54c1-4ec9-80fb-c611ed398122",
     "regions": {
      "b5721d20-d6f8-4ddb-a5aa-eb16f0cc8893": {
       "attrs": {
        "height": 0.8,
        "width": 0.8,
        "x": 0.1,
        "y": 0.1
       },
       "content": {
        "cell": "313015a2-b5a9-4136-a8ea-5d011e47d840",
        "part": "whole"
       },
       "id": "b5721d20-d6f8-4ddb-a5aa-eb16f0cc8893"
      }
     }
    },
    "732f1952-ee54-46fb-8067-099512824296": {
     "id": "732f1952-ee54-46fb-8067-099512824296",
     "prev": "0a2d4faf-9fb8-4cee-853b-ed68b90f3f8a",
     "regions": {
      "f31d4597-08ad-4c46-ad52-4bd2d775c624": {
       "attrs": {
        "height": 0.8,
        "width": 0.8,
        "x": 0.1,
        "y": 0.1
       },
       "content": {
        "cell": "aadfec52-27ca-4541-8920-fa9253d51827",
        "part": "whole"
       },
       "id": "f31d4597-08ad-4c46-ad52-4bd2d775c624"
      }
     }
    },
    "76898529-e49e-4663-8d02-8261dfe1d94b": {
     "id": "76898529-e49e-4663-8d02-8261dfe1d94b",
     "prev": "19091b36-b0e7-49b1-b501-ec05937e0da9",
     "regions": {
      "ec1746fc-aec9-4a7c-8225-9e9ac8d45889": {
       "attrs": {
        "height": 0.8,
        "width": 0.8,
        "x": 0.1,
        "y": 0.1
       },
       "content": {
        "cell": "b3e539be-84e2-49ce-a183-31cfc5c7ce7c",
        "part": "whole"
       },
       "id": "ec1746fc-aec9-4a7c-8225-9e9ac8d45889"
      }
     }
    },
    "8a712017-49b7-449f-8264-43a032ace902": {
     "id": "8a712017-49b7-449f-8264-43a032ace902",
     "prev": "bed9e696-630e-4747-be1c-bc3737ba992f",
     "regions": {
      "1faab517-cd16-4c63-bb01-a67246749d7a": {
       "attrs": {
        "height": 0.8,
        "width": 0.8,
        "x": 0.1,
        "y": 0.1
       },
       "content": {
        "cell": "3f14ddf0-4145-4687-9c33-712c3c32520f",
        "part": "whole"
       },
       "id": "1faab517-cd16-4c63-bb01-a67246749d7a"
      }
     }
    },
    "90af992d-eb6d-4496-b2d2-6aa9a95b6a61": {
     "id": "90af992d-eb6d-4496-b2d2-6aa9a95b6a61",
     "prev": "732f1952-ee54-46fb-8067-099512824296",
     "regions": {
      "4f448bec-5be9-4553-88ae-e35ed7612f25": {
       "attrs": {
        "height": 0.8,
        "width": 0.8,
        "x": 0.1,
        "y": 0.1
       },
       "content": {
        "cell": "c445fbfb-b8ab-4e9a-8d13-12231a1c588f",
        "part": "whole"
       },
       "id": "4f448bec-5be9-4553-88ae-e35ed7612f25"
      }
     }
    },
    "bed9e696-630e-4747-be1c-bc3737ba992f": {
     "id": "bed9e696-630e-4747-be1c-bc3737ba992f",
     "prev": "23a7337f-a0cf-4ed4-baa9-ec06bfdc0579",
     "regions": {
      "ac1513f0-404f-492b-8b42-0313e9a753b0": {
       "attrs": {
        "height": 0.8,
        "width": 0.8,
        "x": 0.1,
        "y": 0.1
       },
       "content": {
        "cell": "18dd2eee-8b6c-4a5e-9539-132d00a7c7e1",
        "part": "whole"
       },
       "id": "ac1513f0-404f-492b-8b42-0313e9a753b0"
      }
     }
    },
    "de6b30f4-2463-4901-92ed-aabad78e5e0f": {
     "id": "de6b30f4-2463-4901-92ed-aabad78e5e0f",
     "prev": "e36b4639-be8c-46f7-a8c9-bcfb134f9fd0",
     "regions": {
      "55ec36e0-362f-4fd3-8060-7cee056039aa": {
       "attrs": {
        "height": 0.8,
        "width": 0.8,
        "x": 0.1,
        "y": 0.1
       },
       "content": {
        "cell": "c3cf461e-4c9e-4dec-99d2-07bfa79cbe23",
        "part": "whole"
       },
       "id": "55ec36e0-362f-4fd3-8060-7cee056039aa"
      }
     }
    },
    "e36b4639-be8c-46f7-a8c9-bcfb134f9fd0": {
     "id": "e36b4639-be8c-46f7-a8c9-bcfb134f9fd0",
     "prev": "1519a4fa-1588-4644-98de-9c43bf0aceb5",
     "regions": {
      "4c1e9714-9ba0-45fd-8a2f-ef80a5c85c2e": {
       "attrs": {
        "height": 0.8,
        "width": 0.8,
        "x": 0.1,
        "y": 0.1
       },
       "content": {
        "cell": "6534d4dc-125f-47e6-a022-cf1e0d277174",
        "part": "whole"
       },
       "id": "4c1e9714-9ba0-45fd-8a2f-ef80a5c85c2e"
      }
     }
    },
    "e76e9a02-54c1-4ec9-80fb-c611ed398122": {
     "id": "e76e9a02-54c1-4ec9-80fb-c611ed398122",
     "prev": "90af992d-eb6d-4496-b2d2-6aa9a95b6a61",
     "regions": {
      "9491b84d-193b-40ff-9321-d21eb1ba88d4": {
       "attrs": {
        "height": 0.8,
        "width": 0.8,
        "x": 0.1,
        "y": 0.1
       },
       "content": {
        "cell": "b64ec10e-fa9d-4f3f-907f-6799611ed6b1",
        "part": "whole"
       },
       "id": "9491b84d-193b-40ff-9321-d21eb1ba88d4"
      }
     }
    }
   },
   "themes": {}
  }
 },
 "nbformat": 4,
 "nbformat_minor": 0
}
